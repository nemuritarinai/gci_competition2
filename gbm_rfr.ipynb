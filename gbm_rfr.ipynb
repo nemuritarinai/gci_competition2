{
 "cells": [
  {
   "cell_type": "code",
   "execution_count": 15,
   "metadata": {},
   "outputs": [],
   "source": [
    "#Importing required packages.\n",
    "import pandas as pd\n",
    "import seaborn as sns\n",
    "import matplotlib.pyplot as plt\n",
    "from sklearn.ensemble import RandomForestRegressor\n",
    "from sklearn.svm import SVC\n",
    "from sklearn.linear_model import SGDClassifier\n",
    "from sklearn.metrics import confusion_matrix, classification_report\n",
    "from sklearn.preprocessing import StandardScaler, LabelEncoder\n",
    "from sklearn.model_selection import train_test_split, GridSearchCV, cross_val_score\n",
    "import lightgbm as lgb\n",
    "\n",
    "%matplotlib inline"
   ]
  },
  {
   "cell_type": "code",
   "execution_count": 16,
   "metadata": {},
   "outputs": [],
   "source": [
    "path = \"input/\"\n",
    "\n",
    "wine = pd.read_csv(path + 'train.csv')\n",
    "wine_test = pd.read_csv(path + 'test.csv')"
   ]
  },
  {
   "cell_type": "code",
   "execution_count": 17,
   "metadata": {},
   "outputs": [],
   "source": [
    "wine['density'].fillna(wine['density'].mean(), inplace=True)\n",
    "wine_test['density'].fillna(wine['density'].mean(), inplace=True)\n",
    "\n",
    "wine['pH'].fillna(wine['pH'].mean(), inplace=True)\n",
    "wine_test['pH'].fillna(wine['pH'].mean(), inplace=True)"
   ]
  },
  {
   "cell_type": "code",
   "execution_count": 18,
   "metadata": {},
   "outputs": [],
   "source": [
    "X = wine.drop('quality', axis = 1)\n",
    "y = wine['quality']"
   ]
  },
  {
   "cell_type": "markdown",
   "metadata": {},
   "source": [
    "RandomForestRegressorモデル構築"
   ]
  },
  {
   "cell_type": "code",
   "execution_count": 19,
   "metadata": {},
   "outputs": [],
   "source": [
    "X_train, X_test, y_train, y_test = train_test_split(X, y, test_size = 0.2, random_state = 42)"
   ]
  },
  {
   "cell_type": "code",
   "execution_count": 20,
   "metadata": {},
   "outputs": [],
   "source": [
    "rfr = RandomForestRegressor(n_estimators=200)\n",
    "rfr.fit(X_train, y_train)\n",
    "pred_rfr = rfr.predict(wine_test)"
   ]
  },
  {
   "cell_type": "markdown",
   "metadata": {},
   "source": [
    "lightGBMのモデル構築"
   ]
  },
  {
   "cell_type": "code",
   "execution_count": 21,
   "metadata": {},
   "outputs": [],
   "source": [
    "lgb_train = lgb.Dataset(X_train, y_train)\n",
    "lgb_eval = lgb.Dataset(X_test, y_test, reference=lgb_train)"
   ]
  },
  {
   "cell_type": "code",
   "execution_count": 22,
   "metadata": {},
   "outputs": [],
   "source": [
    "params = {\n",
    "        'task' : 'train',\n",
    "        'boosting_type' : 'gbdt',\n",
    "        'objective' : 'regression',\n",
    "        'metric' : {'mse'},\n",
    "        'num_leaves' : 30,\n",
    "        'learning_rate' : 0.1,\n",
    "        'feature_fraction' : 0.9,\n",
    "        'bagging_fraction' : 0.8,\n",
    "        'bagging_freq': 5,\n",
    "}"
   ]
  },
  {
   "cell_type": "code",
   "execution_count": 23,
   "metadata": {},
   "outputs": [
    {
     "name": "stdout",
     "output_type": "stream",
     "text": [
      "[1]\tvalid_0's l2: 0.966953\n",
      "Training until validation scores don't improve for 10 rounds\n",
      "[2]\tvalid_0's l2: 0.92518\n",
      "[3]\tvalid_0's l2: 0.896719\n",
      "[4]\tvalid_0's l2: 0.861284\n",
      "[5]\tvalid_0's l2: 0.834183\n",
      "[6]\tvalid_0's l2: 0.822787\n",
      "[7]\tvalid_0's l2: 0.808808\n",
      "[8]\tvalid_0's l2: 0.806466\n",
      "[9]\tvalid_0's l2: 0.798962\n",
      "[10]\tvalid_0's l2: 0.79474\n",
      "[11]\tvalid_0's l2: 0.788926\n",
      "[12]\tvalid_0's l2: 0.784403\n",
      "[13]\tvalid_0's l2: 0.781443\n",
      "[14]\tvalid_0's l2: 0.776763\n",
      "[15]\tvalid_0's l2: 0.774434\n",
      "[16]\tvalid_0's l2: 0.771743\n",
      "[17]\tvalid_0's l2: 0.77005\n",
      "[18]\tvalid_0's l2: 0.7676\n",
      "[19]\tvalid_0's l2: 0.764695\n",
      "[20]\tvalid_0's l2: 0.761532\n",
      "[21]\tvalid_0's l2: 0.758802\n",
      "[22]\tvalid_0's l2: 0.758114\n",
      "[23]\tvalid_0's l2: 0.760792\n",
      "[24]\tvalid_0's l2: 0.760669\n",
      "[25]\tvalid_0's l2: 0.764335\n",
      "[26]\tvalid_0's l2: 0.763762\n",
      "[27]\tvalid_0's l2: 0.763058\n",
      "[28]\tvalid_0's l2: 0.763226\n",
      "[29]\tvalid_0's l2: 0.763104\n",
      "[30]\tvalid_0's l2: 0.763817\n",
      "[31]\tvalid_0's l2: 0.762302\n",
      "[32]\tvalid_0's l2: 0.76339\n",
      "Early stopping, best iteration is:\n",
      "[22]\tvalid_0's l2: 0.758114\n"
     ]
    }
   ],
   "source": [
    "gbm = lgb.train(params,\n",
    "            lgb_train,\n",
    "            num_boost_round=100,\n",
    "            valid_sets=lgb_eval,\n",
    "            early_stopping_rounds=10)"
   ]
  },
  {
   "cell_type": "markdown",
   "metadata": {},
   "source": [
    "モデルアンサンブル"
   ]
  },
  {
   "cell_type": "code",
   "execution_count": 24,
   "metadata": {},
   "outputs": [],
   "source": [
    "rfr_pred = rfr.predict(wine_test)\n",
    "\n",
    "lgb_pred = gbm.predict(wine_test)\n",
    "\n",
    "pred_proba = (rfr_pred + lgb_pred) / 2\n",
    "pred = pred_proba.argmax()"
   ]
  },
  {
   "cell_type": "code",
   "execution_count": 25,
   "metadata": {},
   "outputs": [
    {
     "data": {
      "text/plain": [
       "array([5.31331939, 5.3292644 , 5.84719076, 6.27279541, 6.10706453,\n",
       "       5.39204691, 5.20122551, 5.8376869 , 6.27584551, 5.3435113 ,\n",
       "       6.56685631, 5.15383386, 6.31319314, 6.40112477, 5.88099983,\n",
       "       5.09874084, 5.20083139, 6.13631802, 6.13438834, 5.91202455,\n",
       "       5.69864947, 5.20653677, 5.84356396, 4.87680604, 5.49192423,\n",
       "       5.8955545 , 4.90688304, 5.94708546, 5.38229752, 6.09086917,\n",
       "       5.57089933, 5.52570369, 5.68476587, 5.39371193, 4.75771725,\n",
       "       5.38321176, 4.99539609, 6.34475505, 5.35942125, 5.26428981,\n",
       "       5.40808631, 6.56819294, 5.6446116 , 5.10808177, 5.35584884,\n",
       "       5.62173372, 5.56298897, 5.47704483, 5.49606234, 6.28273435,\n",
       "       5.46973566, 6.52832379, 5.58157596, 5.72176875, 5.40617003,\n",
       "       5.04351453, 6.10605781, 6.07941101, 5.67321908, 5.89938456,\n",
       "       6.60748232, 5.01608399, 5.91866469, 5.00584069, 5.04057946,\n",
       "       6.44825061, 5.24377205, 5.25974289, 5.17363178, 5.28518253,\n",
       "       5.45111489, 5.80188515, 5.81318383, 5.49254491, 5.4650748 ,\n",
       "       6.39350382, 6.79456653, 5.19660914, 5.92826615, 5.04803219,\n",
       "       6.45420599, 5.25780971, 5.02390599, 5.37930896, 5.87809618,\n",
       "       5.77558277, 5.09334586, 6.38885161, 6.66668945, 4.99114976,\n",
       "       5.1023924 , 5.03335564, 5.20114171, 5.3001271 , 5.2376112 ,\n",
       "       5.08727327, 6.52310921, 5.25232585, 5.60666498, 5.09483338,\n",
       "       5.65866977, 6.5199463 , 5.29657273, 5.16262507, 5.37332071,\n",
       "       6.16587493, 6.28743402, 6.45450099, 5.39171658, 4.8191909 ,\n",
       "       5.40672257, 4.83862699, 5.66020758, 4.81446661, 6.31745076,\n",
       "       5.66678453, 4.88501991, 5.37938032, 5.46396229, 5.14219287,\n",
       "       5.23985348, 6.50717038, 5.64541149, 5.12588772, 5.27140282,\n",
       "       5.28518334, 5.17483131, 4.66985442, 4.8898067 , 6.40873209,\n",
       "       6.26434234, 4.93041345, 5.26872353, 5.40105917, 5.47870602,\n",
       "       6.28900001, 5.04883112, 5.20284183, 5.53414109, 4.97306716,\n",
       "       5.26738656, 5.54049106, 5.69201799, 4.93680356, 5.43122274,\n",
       "       5.09968279, 5.00462801, 6.12638045, 5.66614597, 5.23534071,\n",
       "       6.49822003, 4.72587272, 5.83786629, 5.28023553, 5.74634888,\n",
       "       5.43482603, 5.78878887, 6.83957212, 6.6333898 , 4.9675055 ,\n",
       "       6.31629696, 5.24247743, 5.79611264, 5.47687342, 5.24415624,\n",
       "       5.5006424 , 5.626503  , 6.67070028, 5.17280007, 5.86848867,\n",
       "       4.77380109, 5.88151749, 5.37154052, 5.78247374, 5.9829225 ,\n",
       "       6.41151462, 6.38654261, 5.07950933, 5.66731851, 4.57289743,\n",
       "       5.28693801, 6.37664139, 6.11816183, 6.26529077, 6.12485604,\n",
       "       5.08565372, 5.24262064, 5.73861269, 5.11531075, 6.04880255,\n",
       "       5.58831683, 5.77326811, 5.44573084, 5.33856529, 6.82683152,\n",
       "       5.19560441, 5.57454574, 5.87111184, 5.47636633, 5.18999275,\n",
       "       5.34373228, 4.88406258, 5.95345081, 6.27312629, 5.3328038 ,\n",
       "       5.11751559, 5.53294821, 5.44324376, 5.02389865, 6.19364938,\n",
       "       5.0701962 , 5.21181933, 6.58651165, 5.52119301, 5.55291649,\n",
       "       4.90864854, 5.2485936 , 4.78368222, 5.88681939, 6.69705987,\n",
       "       5.94297305, 4.99632846, 5.05560894, 5.23914894, 5.92997939,\n",
       "       5.02103316, 5.2749568 , 5.55696778, 6.20884625, 5.1813864 ,\n",
       "       5.82713162, 5.53493961, 6.03276863, 6.28387394, 5.44757181,\n",
       "       6.41156182, 5.2678136 , 4.95413174, 4.89632161, 5.96931921,\n",
       "       6.51040499, 5.69743   , 6.34960064, 5.11315785, 5.29079184,\n",
       "       6.38481145, 5.27063789, 5.36021417, 5.98613082, 5.0561993 ,\n",
       "       5.43604323, 6.07966732, 4.82919837, 5.84026034, 5.6273717 ,\n",
       "       5.73794912, 5.22588619, 5.56860301, 4.95675626, 5.43730575,\n",
       "       6.11137172, 5.1307077 , 5.94681654, 5.25922232, 5.59380287,\n",
       "       5.44922218, 6.78197817, 5.10323663, 4.64308587, 6.08128355,\n",
       "       6.12427703, 6.36326717, 5.1537092 , 6.65866069, 5.75403794,\n",
       "       5.51088828, 5.5811096 , 5.39155604, 5.28781254, 5.25789641,\n",
       "       6.23429   , 6.4666945 , 6.48416974, 5.52615848, 6.28882865,\n",
       "       5.25698245, 5.97683894, 6.02872373, 4.96581911, 5.39889242,\n",
       "       5.36014654, 5.79020853, 5.47508696, 4.98598183, 5.19436682,\n",
       "       5.31612993, 5.48721263, 4.9150273 , 5.56707209, 5.63139924,\n",
       "       6.00902475, 5.26651575, 6.3175169 , 5.24438583, 5.78015341,\n",
       "       5.47541886, 5.24216463, 6.88080874, 5.99182572, 5.42279074,\n",
       "       5.36688042, 6.09585825, 6.59436682, 6.39931112, 6.12005294,\n",
       "       5.27626008, 5.50830666, 4.9343843 , 5.18905002])"
      ]
     },
     "execution_count": 25,
     "metadata": {},
     "output_type": "execute_result"
    }
   ],
   "source": [
    "pred_proba"
   ]
  },
  {
   "cell_type": "code",
   "execution_count": 27,
   "metadata": {},
   "outputs": [],
   "source": [
    "submission = pd.read_csv(\"model/submission.csv\")\n",
    "submission['quality'] = pred_proba\n",
    "submission.to_csv(\"model/model_rfr_gbm.csv\", index=False)"
   ]
  },
  {
   "cell_type": "code",
   "execution_count": null,
   "metadata": {},
   "outputs": [],
   "source": []
  },
  {
   "cell_type": "code",
   "execution_count": null,
   "metadata": {},
   "outputs": [],
   "source": []
  }
 ],
 "metadata": {
  "kernelspec": {
   "display_name": "Python 3",
   "language": "python",
   "name": "python3"
  },
  "language_info": {
   "codemirror_mode": {
    "name": "ipython",
    "version": 3
   },
   "file_extension": ".py",
   "mimetype": "text/x-python",
   "name": "python",
   "nbconvert_exporter": "python",
   "pygments_lexer": "ipython3",
   "version": "3.7.0"
  }
 },
 "nbformat": 4,
 "nbformat_minor": 4
}
