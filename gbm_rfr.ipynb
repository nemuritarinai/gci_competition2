{
 "cells": [
  {
   "cell_type": "code",
   "execution_count": 20,
   "metadata": {},
   "outputs": [],
   "source": [
    "#Importing required packages.\n",
    "import pandas as pd\n",
    "import seaborn as sns\n",
    "import matplotlib.pyplot as plt\n",
    "from sklearn.ensemble import RandomForestRegressor\n",
    "from sklearn.svm import SVC\n",
    "from sklearn.linear_model import SGDClassifier\n",
    "from sklearn.metrics import confusion_matrix, classification_report\n",
    "from sklearn.preprocessing import StandardScaler, LabelEncoder\n",
    "from sklearn.model_selection import train_test_split, GridSearchCV, cross_val_score\n",
    "import lightgbm as lgb\n",
    "\n",
    "%matplotlib inline"
   ]
  },
  {
   "cell_type": "code",
   "execution_count": 2,
   "metadata": {},
   "outputs": [],
   "source": [
    "path = \"input/\"\n",
    "\n",
    "wine = pd.read_csv(path + 'train.csv')\n",
    "wine_test = pd.read_csv(path + 'test.csv')"
   ]
  },
  {
   "cell_type": "code",
   "execution_count": 3,
   "metadata": {},
   "outputs": [],
   "source": [
    "wine['density'].fillna(wine['density'].mean(), inplace=True)\n",
    "wine_test['density'].fillna(wine['density'].mean(), inplace=True)\n",
    "\n",
    "wine['pH'].fillna(wine['pH'].mean(), inplace=True)\n",
    "wine_test['pH'].fillna(wine['pH'].mean(), inplace=True)"
   ]
  },
  {
   "cell_type": "code",
   "execution_count": 4,
   "metadata": {},
   "outputs": [],
   "source": [
    "X = wine.drop('quality', axis = 1)\n",
    "y = wine['quality']"
   ]
  },
  {
   "cell_type": "markdown",
   "metadata": {},
   "source": [
    "RandomForestRegressorモデル構築"
   ]
  },
  {
   "cell_type": "code",
   "execution_count": 5,
   "metadata": {},
   "outputs": [],
   "source": [
    "X_train, X_test, y_train, y_test = train_test_split(X, y, test_size = 0.2, random_state = 42)"
   ]
  },
  {
   "cell_type": "code",
   "execution_count": 27,
   "metadata": {},
   "outputs": [],
   "source": [
    "rfr = RandomForestRegressor(n_estimators=200)\n",
    "rfr.fit(X_train, y_train)\n",
    "pred_rfr = rfr.predict(wine_test)"
   ]
  },
  {
   "cell_type": "markdown",
   "metadata": {},
   "source": [
    "lightGBMのモデル構築"
   ]
  },
  {
   "cell_type": "code",
   "execution_count": 30,
   "metadata": {},
   "outputs": [],
   "source": [
    "lgb_train = lgb.Dataset(X_train, y_train)\n",
    "lgb_eval = lgb.Dataset(X_test, y_test, reference=lgb_train)"
   ]
  },
  {
   "cell_type": "code",
   "execution_count": 31,
   "metadata": {},
   "outputs": [],
   "source": [
    "params = {\n",
    "        'task' : 'train',\n",
    "        'boosting_type' : 'gbdt',\n",
    "        'objective' : 'regression',\n",
    "        'metric' : {'mse'},\n",
    "        'num_leaves' : 30,\n",
    "        'learning_rate' : 0.1,\n",
    "        'feature_fraction' : 0.9,\n",
    "        'bagging_fraction' : 0.8,\n",
    "        'bagging_freq': 5,\n",
    "}"
   ]
  },
  {
   "cell_type": "code",
   "execution_count": 32,
   "metadata": {},
   "outputs": [
    {
     "name": "stdout",
     "output_type": "stream",
     "text": [
      "[1]\tvalid_0's l2: 0.966953\n",
      "Training until validation scores don't improve for 10 rounds\n",
      "[2]\tvalid_0's l2: 0.92518\n",
      "[3]\tvalid_0's l2: 0.896719\n",
      "[4]\tvalid_0's l2: 0.861284\n",
      "[5]\tvalid_0's l2: 0.834183\n",
      "[6]\tvalid_0's l2: 0.822787\n",
      "[7]\tvalid_0's l2: 0.808808\n",
      "[8]\tvalid_0's l2: 0.806466\n",
      "[9]\tvalid_0's l2: 0.798962\n",
      "[10]\tvalid_0's l2: 0.79474\n",
      "[11]\tvalid_0's l2: 0.788926\n",
      "[12]\tvalid_0's l2: 0.784403\n",
      "[13]\tvalid_0's l2: 0.781443\n",
      "[14]\tvalid_0's l2: 0.776763\n",
      "[15]\tvalid_0's l2: 0.774434\n",
      "[16]\tvalid_0's l2: 0.771743\n",
      "[17]\tvalid_0's l2: 0.77005\n",
      "[18]\tvalid_0's l2: 0.7676\n",
      "[19]\tvalid_0's l2: 0.764695\n",
      "[20]\tvalid_0's l2: 0.761532\n",
      "[21]\tvalid_0's l2: 0.758802\n",
      "[22]\tvalid_0's l2: 0.758114\n",
      "[23]\tvalid_0's l2: 0.760792\n",
      "[24]\tvalid_0's l2: 0.760669\n",
      "[25]\tvalid_0's l2: 0.764335\n",
      "[26]\tvalid_0's l2: 0.763762\n",
      "[27]\tvalid_0's l2: 0.763058\n",
      "[28]\tvalid_0's l2: 0.763226\n",
      "[29]\tvalid_0's l2: 0.763104\n",
      "[30]\tvalid_0's l2: 0.763817\n",
      "[31]\tvalid_0's l2: 0.762302\n",
      "[32]\tvalid_0's l2: 0.76339\n",
      "Early stopping, best iteration is:\n",
      "[22]\tvalid_0's l2: 0.758114\n"
     ]
    }
   ],
   "source": [
    "gbm = lgb.train(params,\n",
    "            lgb_train,\n",
    "            num_boost_round=100,\n",
    "            valid_sets=lgb_eval,\n",
    "            early_stopping_rounds=10)"
   ]
  },
  {
   "cell_type": "markdown",
   "metadata": {},
   "source": [
    "モデルアンサンブル"
   ]
  },
  {
   "cell_type": "code",
   "execution_count": 41,
   "metadata": {},
   "outputs": [],
   "source": [
    "rfr_pred = rfr.predict(wine_test)\n",
    "\n",
    "lgb_pred = gbm.predict(wine_test)\n",
    "\n",
    "pred_proba = (rfr_pred + lgb_pred) / 2\n",
    "pred = pred_proba.argmax()"
   ]
  },
  {
   "cell_type": "code",
   "execution_count": 43,
   "metadata": {},
   "outputs": [
    {
     "data": {
      "text/plain": [
       "array([5.32981939, 5.2760144 , 5.89694076, 6.22879541, 6.11406453,\n",
       "       5.42279691, 5.17397551, 5.8559369 , 6.18734551, 5.3830113 ,\n",
       "       6.63285631, 5.17733386, 6.40419314, 6.41762477, 5.82999983,\n",
       "       5.12524084, 5.15258139, 6.13706802, 6.13113834, 5.90877455,\n",
       "       5.69139947, 5.20303677, 5.75931396, 4.87105604, 5.47892423,\n",
       "       5.8425545 , 5.01913304, 5.92508546, 5.38379752, 6.02511917,\n",
       "       5.57614933, 5.57445369, 5.62901587, 5.36271193, 4.78621725,\n",
       "       5.40871176, 4.92589609, 6.30450505, 5.39167125, 5.24478981,\n",
       "       5.43108631, 6.59194294, 5.5993616 , 5.12233177, 5.29934884,\n",
       "       5.66898372, 5.51398897, 5.51254483, 5.45856234, 6.25923435,\n",
       "       5.47648566, 6.56182379, 5.58857596, 5.68626875, 5.39017003,\n",
       "       5.03776453, 6.06080781, 6.09216101, 5.66821908, 5.80888456,\n",
       "       6.66198232, 5.02633399, 5.87141469, 5.04409069, 5.00757946,\n",
       "       6.45025061, 5.21927205, 5.30049289, 5.15438178, 5.25968253,\n",
       "       5.44286489, 5.86688515, 5.77043383, 5.53579491, 5.4028248 ,\n",
       "       6.40550382, 6.82681653, 5.15985914, 5.89001615, 5.17103219,\n",
       "       6.49645599, 5.26480971, 5.04840599, 5.38705896, 5.82934618,\n",
       "       5.79433277, 5.14784586, 6.25585161, 6.74293945, 4.97889976,\n",
       "       5.1376424 , 4.98435564, 5.19039171, 5.2938771 , 5.2418612 ,\n",
       "       5.04077327, 6.50635921, 5.23282585, 5.58116498, 5.13308338,\n",
       "       5.64066977, 6.5646963 , 5.25857273, 5.15062507, 5.36532071,\n",
       "       6.12862493, 6.28943402, 6.40500099, 5.34071658, 4.8534409 ,\n",
       "       5.41397257, 4.86037699, 5.70895758, 4.82471661, 6.31545076,\n",
       "       5.69828453, 4.81926991, 5.42688032, 5.47521229, 5.15544287,\n",
       "       5.20910348, 6.41942038, 5.62566149, 5.10638772, 5.20265282,\n",
       "       5.34318334, 5.15208131, 4.58985442, 4.9103067 , 6.41373209,\n",
       "       6.24459234, 4.92666345, 5.27247353, 5.41830917, 5.51070602,\n",
       "       6.24575001, 5.02758112, 5.21659183, 5.53989109, 5.03306716,\n",
       "       5.26863656, 5.53849106, 5.70126799, 4.97130356, 5.51347274,\n",
       "       5.12093279, 5.00087801, 6.12513045, 5.62339597, 5.24984071,\n",
       "       6.45497003, 4.69812272, 5.89811629, 5.28023553, 5.71609888,\n",
       "       5.45532603, 5.83803887, 6.90332212, 6.6446398 , 4.9135055 ,\n",
       "       6.33204696, 5.26522743, 5.80686264, 5.46562342, 5.32765624,\n",
       "       5.5653924 , 5.632753  , 6.71820028, 5.13380007, 5.89148867,\n",
       "       4.72255109, 5.94076749, 5.39779052, 5.83522374, 6.0294225 ,\n",
       "       6.48676462, 6.34579261, 5.09625933, 5.67556851, 4.49839743,\n",
       "       5.34093801, 6.38239139, 6.11066183, 6.19404077, 6.06560604,\n",
       "       5.07415372, 5.20687064, 5.79186269, 5.10031075, 6.04730255,\n",
       "       5.56256683, 5.80676811, 5.46073084, 5.39131529, 6.85208152,\n",
       "       5.20310441, 5.62204574, 5.86061184, 5.49761633, 5.18774275,\n",
       "       5.39148228, 4.86731258, 5.90020081, 6.27512629, 5.3810538 ,\n",
       "       5.07051559, 5.53769821, 5.46924376, 5.03239865, 6.20164938,\n",
       "       5.0984462 , 5.25081933, 6.61276165, 5.50994301, 5.56891649,\n",
       "       4.92964854, 5.2550936 , 4.82618222, 5.85481939, 6.67505987,\n",
       "       5.93597305, 5.02482846, 5.03910894, 5.22264894, 5.94072939,\n",
       "       5.01828316, 5.2834568 , 5.52421778, 6.22659625, 5.1833864 ,\n",
       "       5.83288162, 5.50243961, 6.12701863, 6.18512394, 5.43457181,\n",
       "       6.42781182, 5.3255636 , 4.93363174, 4.81882161, 5.90681921,\n",
       "       6.52215499, 5.67218   , 6.40460064, 5.12415785, 5.23179184,\n",
       "       6.32831145, 5.25713789, 5.36771417, 6.01213082, 5.0641993 ,\n",
       "       5.49029323, 6.14716732, 4.79769837, 5.88126034, 5.5668717 ,\n",
       "       5.66319912, 5.19938619, 5.56960301, 4.92400626, 5.41405575,\n",
       "       6.08637172, 5.0514577 , 5.90406654, 5.22872232, 5.56005287,\n",
       "       5.48922218, 6.72797817, 5.04498663, 4.60383587, 6.03253355,\n",
       "       6.11002703, 6.38951717, 5.1362092 , 6.65691069, 5.75628794,\n",
       "       5.48138828, 5.6338596 , 5.32705604, 5.32781254, 5.29139641,\n",
       "       6.20904   , 6.5116945 , 6.49591974, 5.52115848, 6.26282865,\n",
       "       5.19773245, 6.01008894, 6.02372373, 5.01006911, 5.41964242,\n",
       "       5.38814654, 5.82120853, 5.46008696, 4.96098183, 5.21186682,\n",
       "       5.33862993, 5.39546263, 4.9612773 , 5.61457209, 5.65364924,\n",
       "       5.97727475, 5.26701575, 6.2967669 , 5.24238583, 5.82015341,\n",
       "       5.44816886, 5.22641463, 6.90730874, 6.05707572, 5.42604074,\n",
       "       5.29763042, 6.02285825, 6.65486682, 6.42806112, 6.13530294,\n",
       "       5.31801008, 5.55380666, 5.0253843 , 5.16930002])"
      ]
     },
     "execution_count": 43,
     "metadata": {},
     "output_type": "execute_result"
    }
   ],
   "source": [
    "pred_proba"
   ]
  },
  {
   "cell_type": "code",
   "execution_count": 46,
   "metadata": {},
   "outputs": [],
   "source": [
    "submission = pd.read_csv(\"submission.csv\")\n",
    "submission['quality'] = pred_proba\n",
    "submission.to_csv(\"submission2.csv\", index=False)"
   ]
  },
  {
   "cell_type": "code",
   "execution_count": null,
   "metadata": {},
   "outputs": [],
   "source": []
  }
 ],
 "metadata": {
  "kernelspec": {
   "display_name": "Python 3",
   "language": "python",
   "name": "python3"
  },
  "language_info": {
   "codemirror_mode": {
    "name": "ipython",
    "version": 3
   },
   "file_extension": ".py",
   "mimetype": "text/x-python",
   "name": "python",
   "nbconvert_exporter": "python",
   "pygments_lexer": "ipython3",
   "version": "3.7.0"
  }
 },
 "nbformat": 4,
 "nbformat_minor": 4
}
