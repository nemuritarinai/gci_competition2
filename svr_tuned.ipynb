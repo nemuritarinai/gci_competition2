{
 "cells": [
  {
   "cell_type": "code",
   "execution_count": 50,
   "metadata": {},
   "outputs": [],
   "source": [
    "#https://www.kaggle.com/jhansia/regression-models-analysis-on-the-wine-quality\n",
    "#https://qiita.com/koshian2/items/1c0f781d244a6046b83e"
   ]
  },
  {
   "cell_type": "code",
   "execution_count": 335,
   "metadata": {},
   "outputs": [],
   "source": [
    "import pandas as pd\n",
    "import matplotlib.pyplot as plt\n",
    "import numpy as np\n",
    "import seaborn as sns\n",
    "from sklearn import model_selection\n",
    "from sklearn.tree import DecisionTreeRegressor\n",
    "from sklearn.ensemble import RandomForestRegressor\n",
    "from sklearn.ensemble import GradientBoostingRegressor\n",
    "from sklearn.svm import SVR\n",
    "from sklearn.metrics import mean_absolute_error\n",
    "from sklearn.metrics import mean_squared_error\n",
    "from sklearn.model_selection import train_test_split\n",
    "from sklearn import preprocessing\n",
    "import optuna"
   ]
  },
  {
   "cell_type": "code",
   "execution_count": 336,
   "metadata": {},
   "outputs": [],
   "source": [
    "path = \"input/\"\n",
    "\n",
    "wine = pd.read_csv(path + 'train.csv')\n",
    "wine_test = pd.read_csv(path + 'test.csv')"
   ]
  },
  {
   "cell_type": "code",
   "execution_count": 337,
   "metadata": {},
   "outputs": [
    {
     "data": {
      "text/plain": [
       "fixed acidity             0\n",
       "volatile acidity          0\n",
       "citric acid               0\n",
       "residual sugar            0\n",
       "chlorides                 0\n",
       "free sulfur dioxide       0\n",
       "total sulfur dioxide      0\n",
       "density                 122\n",
       "pH                      137\n",
       "sulphates                 0\n",
       "alcohol                   0\n",
       "quality                   0\n",
       "dtype: int64"
      ]
     },
     "execution_count": 337,
     "metadata": {},
     "output_type": "execute_result"
    }
   ],
   "source": [
    "wine.isnull().sum()"
   ]
  },
  {
   "cell_type": "code",
   "execution_count": 338,
   "metadata": {},
   "outputs": [
    {
     "data": {
      "text/plain": [
       "fixed acidity           0\n",
       "volatile acidity        0\n",
       "citric acid             0\n",
       "residual sugar          0\n",
       "chlorides               0\n",
       "free sulfur dioxide     0\n",
       "total sulfur dioxide    0\n",
       "density                 0\n",
       "pH                      0\n",
       "sulphates               0\n",
       "alcohol                 0\n",
       "quality                 0\n",
       "dtype: int64"
      ]
     },
     "execution_count": 338,
     "metadata": {},
     "output_type": "execute_result"
    }
   ],
   "source": [
    "#平均値埋め\n",
    "wine['density'].fillna(wine['density'].mean(), inplace=True)\n",
    "wine_test['density'].fillna(wine['density'].mean(), inplace=True)\n",
    "\n",
    "wine['pH'].fillna(wine['pH'].mean(), inplace=True)\n",
    "wine_test['pH'].fillna(wine['pH'].mean(), inplace=True)\n",
    "\n",
    "wine.isnull().sum()"
   ]
  },
  {
   "cell_type": "code",
   "execution_count": 339,
   "metadata": {},
   "outputs": [
    {
     "data": {
      "text/plain": [
       "\"\\n#酸化防止剤（SO2）の算出\\nwine['mso2']= wine['free sulfur dioxide']/(1+10**(wine['pH']-1.8))\\nwine_test['mso2']= wine_test['free sulfur dioxide']/(1+10**(wine['pH']-1.8))\\n\\n\\nwine['alc_ave_upper'] = wine['alcohol'].apply(lambda x : 1 if x >= wine.alcohol.mean() else 0)\\nwine_test['alc_ave_upper'] = wine_test['alcohol'].apply(lambda x : 1 if x >= wine.alcohol.mean() else 0)\\n\""
      ]
     },
     "execution_count": 339,
     "metadata": {},
     "output_type": "execute_result"
    }
   ],
   "source": [
    "#feature engineering\n",
    "'''\n",
    "#酸化防止剤（SO2）の算出\n",
    "wine['mso2']= wine['free sulfur dioxide']/(1+10**(wine['pH']-1.8))\n",
    "wine_test['mso2']= wine_test['free sulfur dioxide']/(1+10**(wine['pH']-1.8))\n",
    "\n",
    "\n",
    "wine['alc_ave_upper'] = wine['alcohol'].apply(lambda x : 1 if x >= wine.alcohol.mean() else 0)\n",
    "wine_test['alc_ave_upper'] = wine_test['alcohol'].apply(lambda x : 1 if x >= wine.alcohol.mean() else 0)\n",
    "'''"
   ]
  },
  {
   "cell_type": "code",
   "execution_count": 340,
   "metadata": {},
   "outputs": [
    {
     "data": {
      "text/html": [
       "<div>\n",
       "<style scoped>\n",
       "    .dataframe tbody tr th:only-of-type {\n",
       "        vertical-align: middle;\n",
       "    }\n",
       "\n",
       "    .dataframe tbody tr th {\n",
       "        vertical-align: top;\n",
       "    }\n",
       "\n",
       "    .dataframe thead th {\n",
       "        text-align: right;\n",
       "    }\n",
       "</style>\n",
       "<table border=\"1\" class=\"dataframe\">\n",
       "  <thead>\n",
       "    <tr style=\"text-align: right;\">\n",
       "      <th></th>\n",
       "      <th>fixed acidity</th>\n",
       "      <th>volatile acidity</th>\n",
       "      <th>citric acid</th>\n",
       "      <th>residual sugar</th>\n",
       "      <th>chlorides</th>\n",
       "      <th>free sulfur dioxide</th>\n",
       "      <th>total sulfur dioxide</th>\n",
       "      <th>density</th>\n",
       "      <th>pH</th>\n",
       "      <th>sulphates</th>\n",
       "      <th>alcohol</th>\n",
       "    </tr>\n",
       "  </thead>\n",
       "  <tbody>\n",
       "    <tr>\n",
       "      <th>0</th>\n",
       "      <td>8.1</td>\n",
       "      <td>0.39</td>\n",
       "      <td>0.49</td>\n",
       "      <td>2.3</td>\n",
       "      <td>0.100</td>\n",
       "      <td>47.6</td>\n",
       "      <td>134.4</td>\n",
       "      <td>0.997019</td>\n",
       "      <td>3.39</td>\n",
       "      <td>1.00</td>\n",
       "      <td>9.7</td>\n",
       "    </tr>\n",
       "    <tr>\n",
       "      <th>1</th>\n",
       "      <td>7.0</td>\n",
       "      <td>0.50</td>\n",
       "      <td>0.49</td>\n",
       "      <td>5.6</td>\n",
       "      <td>0.060</td>\n",
       "      <td>25.8</td>\n",
       "      <td>121.7</td>\n",
       "      <td>0.989100</td>\n",
       "      <td>3.30</td>\n",
       "      <td>0.77</td>\n",
       "      <td>10.7</td>\n",
       "    </tr>\n",
       "    <tr>\n",
       "      <th>2</th>\n",
       "      <td>8.1</td>\n",
       "      <td>0.50</td>\n",
       "      <td>0.39</td>\n",
       "      <td>2.5</td>\n",
       "      <td>0.082</td>\n",
       "      <td>12.0</td>\n",
       "      <td>46.0</td>\n",
       "      <td>1.004800</td>\n",
       "      <td>3.38</td>\n",
       "      <td>0.61</td>\n",
       "      <td>10.5</td>\n",
       "    </tr>\n",
       "    <tr>\n",
       "      <th>3</th>\n",
       "      <td>6.4</td>\n",
       "      <td>0.38</td>\n",
       "      <td>0.33</td>\n",
       "      <td>3.3</td>\n",
       "      <td>0.046</td>\n",
       "      <td>12.0</td>\n",
       "      <td>52.6</td>\n",
       "      <td>0.983200</td>\n",
       "      <td>3.38</td>\n",
       "      <td>0.63</td>\n",
       "      <td>12.3</td>\n",
       "    </tr>\n",
       "    <tr>\n",
       "      <th>4</th>\n",
       "      <td>8.9</td>\n",
       "      <td>0.31</td>\n",
       "      <td>0.46</td>\n",
       "      <td>1.4</td>\n",
       "      <td>0.059</td>\n",
       "      <td>10.9</td>\n",
       "      <td>24.7</td>\n",
       "      <td>0.993100</td>\n",
       "      <td>3.37</td>\n",
       "      <td>0.79</td>\n",
       "      <td>10.2</td>\n",
       "    </tr>\n",
       "  </tbody>\n",
       "</table>\n",
       "</div>"
      ],
      "text/plain": [
       "   fixed acidity  volatile acidity  citric acid  residual sugar  chlorides  \\\n",
       "0            8.1              0.39         0.49             2.3      0.100   \n",
       "1            7.0              0.50         0.49             5.6      0.060   \n",
       "2            8.1              0.50         0.39             2.5      0.082   \n",
       "3            6.4              0.38         0.33             3.3      0.046   \n",
       "4            8.9              0.31         0.46             1.4      0.059   \n",
       "\n",
       "   free sulfur dioxide  total sulfur dioxide   density    pH  sulphates  \\\n",
       "0                 47.6                 134.4  0.997019  3.39       1.00   \n",
       "1                 25.8                 121.7  0.989100  3.30       0.77   \n",
       "2                 12.0                  46.0  1.004800  3.38       0.61   \n",
       "3                 12.0                  52.6  0.983200  3.38       0.63   \n",
       "4                 10.9                  24.7  0.993100  3.37       0.79   \n",
       "\n",
       "   alcohol  \n",
       "0      9.7  \n",
       "1     10.7  \n",
       "2     10.5  \n",
       "3     12.3  \n",
       "4     10.2  "
      ]
     },
     "execution_count": 340,
     "metadata": {},
     "output_type": "execute_result"
    }
   ],
   "source": [
    "wine_test.head()"
   ]
  },
  {
   "cell_type": "markdown",
   "metadata": {},
   "source": [
    "モデル構築"
   ]
  },
  {
   "cell_type": "code",
   "execution_count": 341,
   "metadata": {},
   "outputs": [],
   "source": [
    "y = wine.quality\n",
    "X = wine.drop(['quality'],axis = 1)\n",
    "X_test = wine_test.iloc[:, 0:].values"
   ]
  },
  {
   "cell_type": "code",
   "execution_count": 342,
   "metadata": {},
   "outputs": [],
   "source": [
    "train_x,test_x,train_y,test_y = train_test_split(X,y,test_size=0.3, random_state = 42)"
   ]
  },
  {
   "cell_type": "code",
   "execution_count": 343,
   "metadata": {},
   "outputs": [],
   "source": [
    "#scaling\n",
    "\n",
    "scaler = preprocessing.StandardScaler().fit(train_x)\n",
    "train_x_scaled = scaler.transform(train_x)\n",
    "X_test_scaled = scaler.transform(X_test)"
   ]
  },
  {
   "cell_type": "code",
   "execution_count": 344,
   "metadata": {},
   "outputs": [],
   "source": [
    "test_x_scaled = scaler.transform(test_x)"
   ]
  },
  {
   "cell_type": "code",
   "execution_count": 345,
   "metadata": {},
   "outputs": [],
   "source": [
    "models = []\n",
    "models.append(('DecisionTree', DecisionTreeRegressor()))\n",
    "models.append(('RandomForest', RandomForestRegressor()))\n",
    "models.append(('GradienBoost', GradientBoostingRegressor()))\n",
    "models.append(('SVR', SVR()))\n",
    "names = []"
   ]
  },
  {
   "cell_type": "code",
   "execution_count": 346,
   "metadata": {},
   "outputs": [
    {
     "name": "stdout",
     "output_type": "stream",
     "text": [
      "DecisionTree: 1.420229\n",
      "RandomForest: 0.798819\n",
      "GradienBoost: 0.768838\n",
      "SVR: 0.755632\n"
     ]
    }
   ],
   "source": [
    "for name,model in models:\n",
    "    kfold = model_selection.KFold(n_splits=5,random_state=42)\n",
    "    cv_results = model_selection.cross_val_score(model,train_x_scaled,train_y, cv= kfold, scoring = 'neg_mean_squared_error')\n",
    "    names.append(name)\n",
    "    msg  = \"%s: %f\" % (name, -1*(cv_results).mean())\n",
    "    print(msg)"
   ]
  },
  {
   "cell_type": "code",
   "execution_count": 347,
   "metadata": {},
   "outputs": [],
   "source": [
    "model = SVR()\n",
    "model.fit(train_x_scaled,train_y)\n",
    "pred_y = model.predict(test_x_scaled)"
   ]
  },
  {
   "cell_type": "code",
   "execution_count": 348,
   "metadata": {},
   "outputs": [
    {
     "data": {
      "text/plain": [
       "0.7476197790125285"
      ]
     },
     "execution_count": 348,
     "metadata": {},
     "output_type": "execute_result"
    }
   ],
   "source": [
    "mean_squared_error(pred_y,test_y)"
   ]
  },
  {
   "cell_type": "code",
   "execution_count": 311,
   "metadata": {},
   "outputs": [],
   "source": [
    "def objective(trial):\n",
    "    # C\n",
    "    svr_c = trial.suggest_loguniform('svr_c', 1e0, 1e2)\n",
    "    # epsilon\n",
    "    epsilon = trial.suggest_loguniform('epsilon', 1e-1, 1e1)\n",
    "    # SVR\n",
    "    svr = SVR(C=svr_c, epsilon=epsilon)\n",
    "    svr.fit(train_x, train_y)\n",
    "    # 予測\n",
    "    y_pred = svr.predict(test_x)\n",
    "    # CrossvalidationのMSEで比較（最大化がまだサポートされていない）\n",
    "    return mean_squared_error(test_y, y_pred)"
   ]
  },
  {
   "cell_type": "code",
   "execution_count": 312,
   "metadata": {},
   "outputs": [
    {
     "data": {
      "text/plain": [
       "'\\n# optuna\\nstudy = optuna.create_study()\\nstudy.optimize(objective, n_trials=100)\\n\\n# 最適解\\nprint(study.best_params)\\nprint(study.best_value)\\nprint(study.best_trial)\\n'"
      ]
     },
     "execution_count": 312,
     "metadata": {},
     "output_type": "execute_result"
    }
   ],
   "source": [
    "'''\n",
    "# optuna\n",
    "study = optuna.create_study()\n",
    "study.optimize(objective, n_trials=100)\n",
    "\n",
    "# 最適解\n",
    "print(study.best_params)\n",
    "print(study.best_value)\n",
    "print(study.best_trial)\n",
    "'''\n",
    "#'svr_c': 1.0003295622167319, 'epsilon': 0.26741161895009796"
   ]
  },
  {
   "cell_type": "code",
   "execution_count": 349,
   "metadata": {},
   "outputs": [
    {
     "data": {
      "text/plain": [
       "0.7284565142218978"
      ]
     },
     "execution_count": 349,
     "metadata": {},
     "output_type": "execute_result"
    }
   ],
   "source": [
    "model1 = SVR(C=1.0003295622167319, epsilon=0.26741161895009796)\n",
    "model2 = GradientBoostingRegressor(random_state=42)\n",
    "model3 = RandomForestRegressor(random_state=42)\n",
    "\n",
    "model1.fit(train_x_scaled,train_y)\n",
    "model2.fit(train_x_scaled,train_y)\n",
    "model3.fit(train_x_scaled,train_y)\n",
    "\n",
    "svr_pred = model1.predict(test_x_scaled)\n",
    "gbr_pred = model2.predict(test_x_scaled)\n",
    "rfr_pred = model3.predict(test_x_scaled)\n",
    "\n",
    "pred_y = (svr_pred + gbr_pred) / 2\n",
    "\n",
    "mean_squared_error(pred_y,test_y)"
   ]
  },
  {
   "cell_type": "code",
   "execution_count": 318,
   "metadata": {},
   "outputs": [],
   "source": [
    "sub = (model1.predict(X_test_scaled) + model2.predict(X_test_scaled))/2\n",
    "submission = pd.read_csv(\"model/submission.csv\")\n",
    "submission['quality'] = sub\n",
    "submission.to_csv('model/SVM_gbm.csv', index=False)"
   ]
  },
  {
   "cell_type": "code",
   "execution_count": null,
   "metadata": {},
   "outputs": [],
   "source": [
    "0.7269720822910998"
   ]
  }
 ],
 "metadata": {
  "kernelspec": {
   "display_name": "Python 3",
   "language": "python",
   "name": "python3"
  },
  "language_info": {
   "codemirror_mode": {
    "name": "ipython",
    "version": 3
   },
   "file_extension": ".py",
   "mimetype": "text/x-python",
   "name": "python",
   "nbconvert_exporter": "python",
   "pygments_lexer": "ipython3",
   "version": "3.7.0"
  }
 },
 "nbformat": 4,
 "nbformat_minor": 4
}
