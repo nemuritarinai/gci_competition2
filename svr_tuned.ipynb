{
 "cells": [
  {
   "cell_type": "code",
   "execution_count": 50,
   "metadata": {},
   "outputs": [],
   "source": [
    "#https://www.kaggle.com/jhansia/regression-models-analysis-on-the-wine-quality\n",
    "#https://qiita.com/koshian2/items/1c0f781d244a6046b83e\n",
    "#https://qiita.com/mizutaku17/items/6bd8e778b6e9ec7b162d"
   ]
  },
  {
   "cell_type": "code",
   "execution_count": 498,
   "metadata": {},
   "outputs": [],
   "source": [
    "import pandas as pd\n",
    "import matplotlib.pyplot as plt\n",
    "import numpy as np\n",
    "import seaborn as sns\n",
    "from sklearn import model_selection\n",
    "from sklearn import linear_model\n",
    "from sklearn.tree import DecisionTreeRegressor\n",
    "from sklearn.ensemble import RandomForestRegressor\n",
    "from sklearn.ensemble import GradientBoostingRegressor\n",
    "from sklearn.svm import SVR\n",
    "from sklearn.metrics import mean_absolute_error\n",
    "from sklearn.metrics import mean_squared_error\n",
    "from sklearn.model_selection import train_test_split\n",
    "from sklearn import preprocessing\n",
    "import optuna"
   ]
  },
  {
   "cell_type": "code",
   "execution_count": 553,
   "metadata": {},
   "outputs": [],
   "source": [
    "path = \"input/\"\n",
    "\n",
    "wine = pd.read_csv(path + 'train.csv')\n",
    "wine_test = pd.read_csv(path + 'test.csv')"
   ]
  },
  {
   "cell_type": "code",
   "execution_count": 554,
   "metadata": {},
   "outputs": [
    {
     "data": {
      "text/plain": [
       "fixed acidity           0\n",
       "volatile acidity        0\n",
       "citric acid             0\n",
       "residual sugar          0\n",
       "chlorides               0\n",
       "free sulfur dioxide     0\n",
       "total sulfur dioxide    0\n",
       "density                 0\n",
       "pH                      0\n",
       "sulphates               0\n",
       "alcohol                 0\n",
       "quality                 0\n",
       "dtype: int64"
      ]
     },
     "execution_count": 554,
     "metadata": {},
     "output_type": "execute_result"
    }
   ],
   "source": [
    "#平均値埋め\n",
    "wine['density'].fillna(wine['density'].mean(), inplace=True)\n",
    "wine_test['density'].fillna(wine['density'].mean(), inplace=True)\n",
    "\n",
    "wine['pH'].fillna(wine['pH'].mean(), inplace=True)\n",
    "wine_test['pH'].fillna(wine['pH'].mean(), inplace=True)\n",
    "\n",
    "wine.isnull().sum()"
   ]
  },
  {
   "cell_type": "code",
   "execution_count": 555,
   "metadata": {},
   "outputs": [
    {
     "data": {
      "text/plain": [
       "\"\\n#酸化防止剤（SO2）の算出\\nwine['mso2']= wine['free sulfur dioxide']/(1+10**(wine['pH']-1.8))\\nwine_test['mso2']= wine_test['free sulfur dioxide']/(1+10**(wine['pH']-1.8))\\n\\n#alcが平均よりも高いサンプルに1，ほか0\\nwine['alc_ave_upper'] = wine['alcohol'].apply(lambda x : 1 if x >= wine.alcohol.mean() else 0)\\nwine_test['alc_ave_upper'] = wine_test['alcohol'].apply(lambda x : 1 if x >= wine.alcohol.mean() else 0)\\n\""
      ]
     },
     "execution_count": 555,
     "metadata": {},
     "output_type": "execute_result"
    }
   ],
   "source": [
    "#feature engineering\n",
    "'''\n",
    "#酸化防止剤（SO2）の算出\n",
    "wine['mso2']= wine['free sulfur dioxide']/(1+10**(wine['pH']-1.8))\n",
    "wine_test['mso2']= wine_test['free sulfur dioxide']/(1+10**(wine['pH']-1.8))\n",
    "\n",
    "#alcが平均よりも高いサンプルに1，ほか0\n",
    "wine['alc_ave_upper'] = wine['alcohol'].apply(lambda x : 1 if x >= wine.alcohol.mean() else 0)\n",
    "wine_test['alc_ave_upper'] = wine_test['alcohol'].apply(lambda x : 1 if x >= wine.alcohol.mean() else 0)\n",
    "'''"
   ]
  },
  {
   "cell_type": "code",
   "execution_count": 556,
   "metadata": {},
   "outputs": [],
   "source": [
    "def outlier_iqr(df):\n",
    "\n",
    "    for i in range(len(df.columns)):\n",
    "\n",
    "        # 列を抽出する\n",
    "        col = df.iloc[:,i]\n",
    "\n",
    "        # 四分位数\n",
    "        q1 = col.describe()['25%']\n",
    "        q3 = col.describe()['75%']\n",
    "        iqr = q3 - q1 #四分位範囲\n",
    "\n",
    "        # 外れ値の基準点\n",
    "        outlier_min = q1 - (iqr) * 2.3\n",
    "        outlier_max = q3 + (iqr) * 2.3\n",
    "\n",
    "        # 範囲から外れている値を除く\n",
    "        col[col < outlier_min] = None\n",
    "        col[col > outlier_max] = None\n",
    "\n",
    "    return df"
   ]
  },
  {
   "cell_type": "code",
   "execution_count": 557,
   "metadata": {},
   "outputs": [],
   "source": [
    "wine = outlier_iqr(wine).dropna(how = 'any', axis = 0)"
   ]
  },
  {
   "cell_type": "markdown",
   "metadata": {},
   "source": [
    "モデル構築"
   ]
  },
  {
   "cell_type": "code",
   "execution_count": 558,
   "metadata": {},
   "outputs": [],
   "source": [
    "y = wine.quality\n",
    "X = wine.drop(['quality'],axis = 1)\n",
    "X_test = wine_test.iloc[:, 0:].values\n",
    "\n",
    "#split test data\n",
    "train_x,test_x,train_y,test_y = train_test_split(X,y,test_size=0.3, random_state = 42)"
   ]
  },
  {
   "cell_type": "code",
   "execution_count": 559,
   "metadata": {},
   "outputs": [],
   "source": [
    "#scaling\n",
    "\n",
    "scaler = preprocessing.StandardScaler().fit(train_x)\n",
    "train_x_scaled = scaler.transform(train_x)\n",
    "X_test_scaled = scaler.transform(X_test)\n",
    "test_x_scaled = scaler.transform(test_x)"
   ]
  },
  {
   "cell_type": "code",
   "execution_count": 560,
   "metadata": {},
   "outputs": [],
   "source": [
    "models = []\n",
    "models.append(('RandomForest', RandomForestRegressor()))\n",
    "models.append(('GradienBoost', GradientBoostingRegressor()))\n",
    "models.append(('SVR', SVR()))\n",
    "models.append(('Linear', linear_model.LinearRegression()))\n",
    "names = []"
   ]
  },
  {
   "cell_type": "code",
   "execution_count": 561,
   "metadata": {},
   "outputs": [
    {
     "name": "stdout",
     "output_type": "stream",
     "text": [
      "RandomForest: 0.779109\n",
      "GradienBoost: 0.776035\n",
      "SVR: 0.756405\n",
      "Linear: 0.696855\n"
     ]
    }
   ],
   "source": [
    "for name,model in models:\n",
    "    kfold = model_selection.KFold(n_splits=5,random_state=42)\n",
    "    cv_results = model_selection.cross_val_score(model,train_x_scaled,train_y, cv= kfold, scoring = 'neg_mean_squared_error')\n",
    "    names.append(name)\n",
    "    msg  = \"%s: %f\" % (name, -1*(cv_results).mean())\n",
    "    print(msg)"
   ]
  },
  {
   "cell_type": "code",
   "execution_count": 562,
   "metadata": {},
   "outputs": [],
   "source": [
    "model = linear_model.LinearRegression()\n",
    "model.fit(train_x_scaled,train_y)\n",
    "pred_y = model.predict(test_x_scaled)"
   ]
  },
  {
   "cell_type": "code",
   "execution_count": 563,
   "metadata": {},
   "outputs": [
    {
     "data": {
      "text/plain": [
       "0.6691140824408425"
      ]
     },
     "execution_count": 563,
     "metadata": {},
     "output_type": "execute_result"
    }
   ],
   "source": [
    "mean_squared_error(pred_y,test_y)"
   ]
  },
  {
   "cell_type": "code",
   "execution_count": 311,
   "metadata": {},
   "outputs": [],
   "source": [
    "def objective(trial):\n",
    "    svr_c = trial.suggest_loguniform('svr_c', 1e0, 1e2)\n",
    "    epsilon = trial.suggest_loguniform('epsilon', 1e-1, 1e1)\n",
    "    \n",
    "    svr = SVR(C=svr_c, epsilon=epsilon)\n",
    "    svr.fit(train_x, train_y)\n",
    "    \n",
    "    y_pred = svr.predict(test_x)\n",
    "    return mean_squared_error(test_y, y_pred)"
   ]
  },
  {
   "cell_type": "code",
   "execution_count": 312,
   "metadata": {},
   "outputs": [
    {
     "data": {
      "text/plain": [
       "'\\n# optuna\\nstudy = optuna.create_study()\\nstudy.optimize(objective, n_trials=100)\\n\\n# 最適解\\nprint(study.best_params)\\nprint(study.best_value)\\nprint(study.best_trial)\\n'"
      ]
     },
     "execution_count": 312,
     "metadata": {},
     "output_type": "execute_result"
    }
   ],
   "source": [
    "'''\n",
    "# optuna\n",
    "study = optuna.create_study()\n",
    "study.optimize(objective, n_trials=100)\n",
    "\n",
    "# 最適解\n",
    "print(study.best_params)\n",
    "print(study.best_value)\n",
    "print(study.best_trial)\n",
    "'''\n",
    "#'svr_c': 1.0003295622167319, 'epsilon': 0.26741161895009796"
   ]
  },
  {
   "cell_type": "code",
   "execution_count": 581,
   "metadata": {},
   "outputs": [
    {
     "data": {
      "text/plain": [
       "0.6309534499813314"
      ]
     },
     "execution_count": 581,
     "metadata": {},
     "output_type": "execute_result"
    }
   ],
   "source": [
    "model1 = SVR(C=1.0003295622167319, epsilon=0.26741161895009796)\n",
    "model2 = GradientBoostingRegressor(random_state=42)\n",
    "model3 = RandomForestRegressor(random_state=42)\n",
    "model4 = linear_model.LinearRegression()\n",
    "\n",
    "model1.fit(train_x_scaled,train_y)\n",
    "model2.fit(train_x_scaled,train_y)\n",
    "model3.fit(train_x_scaled,train_y)\n",
    "model4.fit(train_x_scaled,train_y)\n",
    "\n",
    "svr_pred = model1.predict(test_x_scaled)\n",
    "gbr_pred = model2.predict(test_x_scaled)\n",
    "rfr_pred = model3.predict(test_x_scaled)\n",
    "lin_pred = model4.predict(test_x_scaled)\n",
    "\n",
    "pred_y = (svr_pred + gbr_pred + lin_pred + rfr_pred) / 4\n",
    "\n",
    "mean_squared_error(pred_y,test_y)"
   ]
  },
  {
   "cell_type": "code",
   "execution_count": 578,
   "metadata": {},
   "outputs": [],
   "source": [
    "sub = (model1.predict(X_test_scaled) + model2.predict(X_test_scaled)+model3.predict(X_test_scaled)+model4.predict(X_test_scaled))/4\n",
    "submission = pd.read_csv(\"model/submission.csv\")\n",
    "submission['quality'] = sub\n",
    "submission.to_csv('model/4Model_removeOutlier.csv', index=False)"
   ]
  },
  {
   "cell_type": "code",
   "execution_count": null,
   "metadata": {},
   "outputs": [],
   "source": []
  }
 ],
 "metadata": {
  "kernelspec": {
   "display_name": "Python 3",
   "language": "python",
   "name": "python3"
  },
  "language_info": {
   "codemirror_mode": {
    "name": "ipython",
    "version": 3
   },
   "file_extension": ".py",
   "mimetype": "text/x-python",
   "name": "python",
   "nbconvert_exporter": "python",
   "pygments_lexer": "ipython3",
   "version": "3.7.0"
  }
 },
 "nbformat": 4,
 "nbformat_minor": 4
}
