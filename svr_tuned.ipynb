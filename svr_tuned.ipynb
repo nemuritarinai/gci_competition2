{
 "cells": [
  {
   "cell_type": "code",
   "execution_count": 50,
   "metadata": {},
   "outputs": [],
   "source": [
    "#https://www.kaggle.com/jhansia/regression-models-analysis-on-the-wine-quality\n",
    "#https://qiita.com/koshian2/items/1c0f781d244a6046b83e\n",
    "#https://qiita.com/mizutaku17/items/6bd8e778b6e9ec7b162d"
   ]
  },
  {
   "cell_type": "code",
   "execution_count": 56,
   "metadata": {},
   "outputs": [],
   "source": [
    "import pandas as pd\n",
    "import matplotlib.pyplot as plt\n",
    "import numpy as np\n",
    "import seaborn as sns\n",
    "from sklearn import preprocessing\n",
    "from sklearn import model_selection\n",
    "from sklearn import linear_model\n",
    "from sklearn.tree import DecisionTreeRegressor\n",
    "from sklearn.ensemble import RandomForestRegressor\n",
    "from sklearn.ensemble import GradientBoostingRegressor\n",
    "from sklearn.svm import SVR\n",
    "from sklearn.metrics import mean_absolute_error\n",
    "from sklearn.metrics import mean_squared_error\n",
    "from sklearn.model_selection import train_test_split\n",
    "import optuna"
   ]
  },
  {
   "cell_type": "code",
   "execution_count": 57,
   "metadata": {},
   "outputs": [],
   "source": [
    "path = \"input/\"\n",
    "\n",
    "wine = pd.read_csv(path + 'train.csv')\n",
    "wine_test = pd.read_csv(path + 'test.csv')"
   ]
  },
  {
   "cell_type": "code",
   "execution_count": 58,
   "metadata": {},
   "outputs": [
    {
     "data": {
      "text/plain": [
       "fixed acidity           0\n",
       "volatile acidity        0\n",
       "citric acid             0\n",
       "residual sugar          0\n",
       "chlorides               0\n",
       "free sulfur dioxide     0\n",
       "total sulfur dioxide    0\n",
       "density                 0\n",
       "pH                      0\n",
       "sulphates               0\n",
       "alcohol                 0\n",
       "quality                 0\n",
       "dtype: int64"
      ]
     },
     "execution_count": 58,
     "metadata": {},
     "output_type": "execute_result"
    }
   ],
   "source": [
    "#平均値埋め\n",
    "wine['density'].fillna(wine['density'].mean(), inplace=True)\n",
    "wine_test['density'].fillna(wine['density'].mean(), inplace=True)\n",
    "\n",
    "wine['pH'].fillna(wine['pH'].mean(), inplace=True)\n",
    "wine_test['pH'].fillna(wine['pH'].mean(), inplace=True)\n",
    "\n",
    "wine.isnull().sum()"
   ]
  },
  {
   "cell_type": "code",
   "execution_count": 59,
   "metadata": {},
   "outputs": [],
   "source": [
    "wine = wine.drop(\"residual sugar\", axis = 1)\n",
    "wine_test = wine_test.drop(\"residual sugar\", axis=1)"
   ]
  },
  {
   "cell_type": "code",
   "execution_count": 4,
   "metadata": {},
   "outputs": [
    {
     "data": {
      "text/plain": [
       "\"\\n#酸化防止剤（SO2）の算出\\nwine['mso2']= wine['free sulfur dioxide']/(1+10**(wine['pH']-1.8))\\nwine_test['mso2']= wine_test['free sulfur dioxide']/(1+10**(wine['pH']-1.8))\\n\\n#alcが平均よりも高いサンプルに1，ほか0\\nwine['alc_ave_upper'] = wine['alcohol'].apply(lambda x : 1 if x >= wine.alcohol.mean() else 0)\\nwine_test['alc_ave_upper'] = wine_test['alcohol'].apply(lambda x : 1 if x >= wine.alcohol.mean() else 0)\\n\""
      ]
     },
     "execution_count": 4,
     "metadata": {},
     "output_type": "execute_result"
    }
   ],
   "source": [
    "#feature engineering\n",
    "'''\n",
    "#酸化防止剤（SO2）の算出\n",
    "wine['mso2']= wine['free sulfur dioxide']/(1+10**(wine['pH']-1.8))\n",
    "wine_test['mso2']= wine_test['free sulfur dioxide']/(1+10**(wine['pH']-1.8))\n",
    "\n",
    "#alcが平均よりも高いサンプルに1，ほか0\n",
    "wine['alc_ave_upper'] = wine['alcohol'].apply(lambda x : 1 if x >= wine.alcohol.mean() else 0)\n",
    "wine_test['alc_ave_upper'] = wine_test['alcohol'].apply(lambda x : 1 if x >= wine.alcohol.mean() else 0)\n",
    "'''"
   ]
  },
  {
   "cell_type": "code",
   "execution_count": 60,
   "metadata": {},
   "outputs": [],
   "source": [
    "def outlier_iqr(df):\n",
    "    for i in range(len(df.columns)):\n",
    "        col = df.iloc[:,i]\n",
    "\n",
    "        q1 = col.describe()['25%']\n",
    "        q3 = col.describe()['75%']\n",
    "        iqr = q3 - q1 #四分位範囲\n",
    "\n",
    "        # 外れ値の基準点\n",
    "        outlier_min = q1 - (iqr) * 2.3\n",
    "        outlier_max = q3 + (iqr) * 2.3\n",
    "\n",
    "        # 範囲から外れている値を除く\n",
    "        col[col < outlier_min] = None\n",
    "        col[col > outlier_max] = None\n",
    "\n",
    "    return df"
   ]
  },
  {
   "cell_type": "code",
   "execution_count": 61,
   "metadata": {},
   "outputs": [
    {
     "data": {
      "text/plain": [
       "fixed acidity            7\n",
       "volatile acidity         4\n",
       "citric acid              0\n",
       "chlorides               58\n",
       "free sulfur dioxide      8\n",
       "total sulfur dioxide    10\n",
       "density                  2\n",
       "pH                       5\n",
       "sulphates               26\n",
       "alcohol                  1\n",
       "quality                  1\n",
       "dtype: int64"
      ]
     },
     "execution_count": 61,
     "metadata": {},
     "output_type": "execute_result"
    }
   ],
   "source": [
    "outlier_iqr(wine).isnull().sum()"
   ]
  },
  {
   "cell_type": "code",
   "execution_count": 62,
   "metadata": {},
   "outputs": [],
   "source": [
    "wine = outlier_iqr(wine).dropna(how = 'any', axis = 0)"
   ]
  },
  {
   "cell_type": "markdown",
   "metadata": {},
   "source": [
    "モデル構築"
   ]
  },
  {
   "cell_type": "code",
   "execution_count": 63,
   "metadata": {},
   "outputs": [],
   "source": [
    "y = wine.quality\n",
    "X = wine.drop(['quality'],axis = 1)\n",
    "X_test = wine_test.iloc[:, 0:].values\n",
    "\n",
    "#split test data\n",
    "train_x,test_x,train_y,test_y = train_test_split(X,y,test_size=0.3, random_state = 42)"
   ]
  },
  {
   "cell_type": "code",
   "execution_count": 64,
   "metadata": {},
   "outputs": [],
   "source": [
    "#scaling\n",
    "\n",
    "scaler = preprocessing.StandardScaler().fit(train_x)\n",
    "train_x_scaled = scaler.transform(train_x)\n",
    "test_x_scaled = scaler.transform(test_x)\n",
    "X_test_scaled = scaler.transform(X_test)"
   ]
  },
  {
   "cell_type": "code",
   "execution_count": 65,
   "metadata": {},
   "outputs": [],
   "source": [
    "models = []\n",
    "models.append(('RandomForest', RandomForestRegressor()))\n",
    "models.append(('GradienBoost', GradientBoostingRegressor()))\n",
    "models.append(('SVR', SVR()))\n",
    "models.append(('Linear', linear_model.LinearRegression()))\n",
    "names = []"
   ]
  },
  {
   "cell_type": "code",
   "execution_count": 66,
   "metadata": {},
   "outputs": [
    {
     "name": "stdout",
     "output_type": "stream",
     "text": [
      "RandomForest: 0.803759\n",
      "GradienBoost: 0.744312\n",
      "SVR: 0.734105\n",
      "Linear: 0.725190\n"
     ]
    }
   ],
   "source": [
    "for name,model in models:\n",
    "    kfold = model_selection.KFold(n_splits=5,random_state=42)\n",
    "    cv_results = model_selection.cross_val_score(model,train_x_scaled,train_y, cv= kfold, scoring = 'neg_mean_squared_error')\n",
    "    names.append(name)\n",
    "    msg  = \"%s: %f\" % (name, -1*(cv_results).mean())\n",
    "    print(msg)"
   ]
  },
  {
   "cell_type": "code",
   "execution_count": 67,
   "metadata": {},
   "outputs": [],
   "source": [
    "model = SVR()\n",
    "model.fit(train_x_scaled,train_y)\n",
    "pred_y = model.predict(test_x_scaled)"
   ]
  },
  {
   "cell_type": "code",
   "execution_count": 68,
   "metadata": {},
   "outputs": [
    {
     "data": {
      "text/plain": [
       "0.7039403845009782"
      ]
     },
     "execution_count": 68,
     "metadata": {},
     "output_type": "execute_result"
    }
   ],
   "source": [
    "mean_squared_error(pred_y,test_y)"
   ]
  },
  {
   "cell_type": "code",
   "execution_count": 13,
   "metadata": {},
   "outputs": [],
   "source": [
    "def svr_optimaze(trial):\n",
    "    svr_c = trial.suggest_loguniform('svr_c', 1e0, 1e2)\n",
    "    epsilon = trial.suggest_loguniform('epsilon', 1e-1, 1e1)\n",
    "    \n",
    "    svr = SVR(C=svr_c, epsilon=epsilon)\n",
    "    svr.fit(train_x, train_y)\n",
    "    \n",
    "    y_pred = svr.predict(test_x)\n",
    "    return mean_squared_error(test_y, y_pred)"
   ]
  },
  {
   "cell_type": "code",
   "execution_count": 109,
   "metadata": {},
   "outputs": [
    {
     "name": "stderr",
     "output_type": "stream",
     "text": [
      "[I 2020-01-30 12:06:54,461] Finished trial#0 resulted in value: 0.9253846153846153. Current best value is 0.9253846153846153 with parameters: {'svr_c': 8.358568062992761, 'epsilon': 7.534131026758865}.\n",
      "[I 2020-01-30 12:06:54,657] Finished trial#1 resulted in value: 1.1457466630057767. Current best value is 0.9253846153846153 with parameters: {'svr_c': 8.358568062992761, 'epsilon': 7.534131026758865}.\n",
      "[I 2020-01-30 12:06:54,915] Finished trial#2 resulted in value: 1.2588309928676586. Current best value is 0.9253846153846153 with parameters: {'svr_c': 8.358568062992761, 'epsilon': 7.534131026758865}.\n",
      "[I 2020-01-30 12:06:54,989] Finished trial#3 resulted in value: 0.9253846153846153. Current best value is 0.9253846153846153 with parameters: {'svr_c': 8.358568062992761, 'epsilon': 7.534131026758865}.\n",
      "[I 2020-01-30 12:06:55,056] Finished trial#4 resulted in value: 0.9253846153846154. Current best value is 0.9253846153846153 with parameters: {'svr_c': 8.358568062992761, 'epsilon': 7.534131026758865}.\n",
      "[I 2020-01-30 12:06:55,134] Finished trial#5 resulted in value: 0.8770741314880008. Current best value is 0.8770741314880008 with parameters: {'svr_c': 18.119731958085207, 'epsilon': 1.3898539554502283}.\n",
      "[I 2020-01-30 12:06:55,230] Finished trial#6 resulted in value: 0.9253846153846153. Current best value is 0.8770741314880008 with parameters: {'svr_c': 18.119731958085207, 'epsilon': 1.3898539554502283}.\n",
      "[I 2020-01-30 12:06:55,337] Finished trial#7 resulted in value: 0.9253846153846154. Current best value is 0.8770741314880008 with parameters: {'svr_c': 18.119731958085207, 'epsilon': 1.3898539554502283}.\n",
      "[I 2020-01-30 12:06:55,493] Finished trial#8 resulted in value: 0.9624367213470842. Current best value is 0.8770741314880008 with parameters: {'svr_c': 18.119731958085207, 'epsilon': 1.3898539554502283}.\n",
      "[I 2020-01-30 12:06:55,560] Finished trial#9 resulted in value: 0.9253846153846154. Current best value is 0.8770741314880008 with parameters: {'svr_c': 18.119731958085207, 'epsilon': 1.3898539554502283}.\n",
      "[I 2020-01-30 12:06:55,646] Finished trial#10 resulted in value: 0.9121743951213064. Current best value is 0.8770741314880008 with parameters: {'svr_c': 18.119731958085207, 'epsilon': 1.3898539554502283}.\n",
      "[I 2020-01-30 12:06:55,729] Finished trial#11 resulted in value: 0.8665478470441977. Current best value is 0.8665478470441977 with parameters: {'svr_c': 20.500214083135333, 'epsilon': 1.6299929706698622}.\n",
      "[I 2020-01-30 12:06:55,807] Finished trial#12 resulted in value: 0.8660328496339312. Current best value is 0.8660328496339312 with parameters: {'svr_c': 21.09881722065287, 'epsilon': 1.620117290408611}.\n",
      "[I 2020-01-30 12:06:55,877] Finished trial#13 resulted in value: 0.9323380725226801. Current best value is 0.8660328496339312 with parameters: {'svr_c': 21.09881722065287, 'epsilon': 1.620117290408611}.\n",
      "[I 2020-01-30 12:06:55,965] Finished trial#14 resulted in value: 0.8399476185673036. Current best value is 0.8399476185673036 with parameters: {'svr_c': 1.2189050813278848, 'epsilon': 0.8184201327445788}.\n",
      "[I 2020-01-30 12:06:56,083] Finished trial#15 resulted in value: 0.8417270844282734. Current best value is 0.8399476185673036 with parameters: {'svr_c': 1.2189050813278848, 'epsilon': 0.8184201327445788}.\n",
      "[I 2020-01-30 12:06:56,195] Finished trial#16 resulted in value: 0.8124291027515926. Current best value is 0.8124291027515926 with parameters: {'svr_c': 1.0344665335883079, 'epsilon': 0.6143716186524547}.\n",
      "[I 2020-01-30 12:06:56,331] Finished trial#17 resulted in value: 0.8641565337555667. Current best value is 0.8124291027515926 with parameters: {'svr_c': 1.0344665335883079, 'epsilon': 0.6143716186524547}.\n",
      "[I 2020-01-30 12:06:56,464] Finished trial#18 resulted in value: 0.8571107520154557. Current best value is 0.8124291027515926 with parameters: {'svr_c': 1.0344665335883079, 'epsilon': 0.6143716186524547}.\n",
      "[I 2020-01-30 12:06:56,600] Finished trial#19 resulted in value: 0.8427665592402368. Current best value is 0.8124291027515926 with parameters: {'svr_c': 1.0344665335883079, 'epsilon': 0.6143716186524547}.\n",
      "[I 2020-01-30 12:06:56,732] Finished trial#20 resulted in value: 0.878603871013541. Current best value is 0.8124291027515926 with parameters: {'svr_c': 1.0344665335883079, 'epsilon': 0.6143716186524547}.\n",
      "[I 2020-01-30 12:06:56,839] Finished trial#21 resulted in value: 0.8444497255494793. Current best value is 0.8124291027515926 with parameters: {'svr_c': 1.0344665335883079, 'epsilon': 0.6143716186524547}.\n",
      "[I 2020-01-30 12:06:56,948] Finished trial#22 resulted in value: 0.8298258820338393. Current best value is 0.8124291027515926 with parameters: {'svr_c': 1.0344665335883079, 'epsilon': 0.6143716186524547}.\n",
      "[I 2020-01-30 12:06:57,071] Finished trial#23 resulted in value: 0.851783704706614. Current best value is 0.8124291027515926 with parameters: {'svr_c': 1.0344665335883079, 'epsilon': 0.6143716186524547}.\n",
      "[I 2020-01-30 12:06:57,178] Finished trial#24 resulted in value: 0.8124034042390885. Current best value is 0.8124034042390885 with parameters: {'svr_c': 1.0320532437844891, 'epsilon': 0.6217671868361287}.\n",
      "[I 2020-01-30 12:06:57,305] Finished trial#25 resulted in value: 0.9020581913780702. Current best value is 0.8124034042390885 with parameters: {'svr_c': 1.0320532437844891, 'epsilon': 0.6217671868361287}.\n",
      "[I 2020-01-30 12:06:57,429] Finished trial#26 resulted in value: 0.8460171611964855. Current best value is 0.8124034042390885 with parameters: {'svr_c': 1.0320532437844891, 'epsilon': 0.6217671868361287}.\n",
      "[I 2020-01-30 12:06:57,550] Finished trial#27 resulted in value: 0.9138018661835849. Current best value is 0.8124034042390885 with parameters: {'svr_c': 1.0320532437844891, 'epsilon': 0.6217671868361287}.\n",
      "[I 2020-01-30 12:06:57,643] Finished trial#28 resulted in value: 0.8896211044913142. Current best value is 0.8124034042390885 with parameters: {'svr_c': 1.0320532437844891, 'epsilon': 0.6217671868361287}.\n",
      "[I 2020-01-30 12:06:57,797] Finished trial#29 resulted in value: 1.0186968974429602. Current best value is 0.8124034042390885 with parameters: {'svr_c': 1.0320532437844891, 'epsilon': 0.6217671868361287}.\n",
      "[I 2020-01-30 12:06:57,922] Finished trial#30 resulted in value: 0.8938094820128336. Current best value is 0.8124034042390885 with parameters: {'svr_c': 1.0320532437844891, 'epsilon': 0.6217671868361287}.\n",
      "[I 2020-01-30 12:06:58,029] Finished trial#31 resulted in value: 0.8196554989222871. Current best value is 0.8124034042390885 with parameters: {'svr_c': 1.0320532437844891, 'epsilon': 0.6217671868361287}.\n",
      "[I 2020-01-30 12:06:58,139] Finished trial#32 resulted in value: 0.8293216948743524. Current best value is 0.8124034042390885 with parameters: {'svr_c': 1.0320532437844891, 'epsilon': 0.6217671868361287}.\n",
      "[I 2020-01-30 12:06:58,232] Finished trial#33 resulted in value: 0.8463930455961317. Current best value is 0.8124034042390885 with parameters: {'svr_c': 1.0320532437844891, 'epsilon': 0.6217671868361287}.\n",
      "[I 2020-01-30 12:06:58,346] Finished trial#34 resulted in value: 0.830098042188554. Current best value is 0.8124034042390885 with parameters: {'svr_c': 1.0320532437844891, 'epsilon': 0.6217671868361287}.\n",
      "[I 2020-01-30 12:06:58,480] Finished trial#35 resulted in value: 0.8809916284136916. Current best value is 0.8124034042390885 with parameters: {'svr_c': 1.0320532437844891, 'epsilon': 0.6217671868361287}.\n",
      "[I 2020-01-30 12:06:58,606] Finished trial#36 resulted in value: 0.8507067470579226. Current best value is 0.8124034042390885 with parameters: {'svr_c': 1.0320532437844891, 'epsilon': 0.6217671868361287}.\n",
      "[I 2020-01-30 12:06:58,716] Finished trial#37 resulted in value: 0.8129149674892907. Current best value is 0.8124034042390885 with parameters: {'svr_c': 1.0320532437844891, 'epsilon': 0.6217671868361287}.\n",
      "[I 2020-01-30 12:06:58,818] Finished trial#38 resulted in value: 0.8568667462203828. Current best value is 0.8124034042390885 with parameters: {'svr_c': 1.0320532437844891, 'epsilon': 0.6217671868361287}.\n",
      "[I 2020-01-30 12:06:58,935] Finished trial#39 resulted in value: 0.8203329600397595. Current best value is 0.8124034042390885 with parameters: {'svr_c': 1.0320532437844891, 'epsilon': 0.6217671868361287}.\n",
      "[I 2020-01-30 12:06:59,064] Finished trial#40 resulted in value: 0.8250546436720306. Current best value is 0.8124034042390885 with parameters: {'svr_c': 1.0320532437844891, 'epsilon': 0.6217671868361287}.\n",
      "[I 2020-01-30 12:06:59,192] Finished trial#41 resulted in value: 0.8233733752365423. Current best value is 0.8124034042390885 with parameters: {'svr_c': 1.0320532437844891, 'epsilon': 0.6217671868361287}.\n",
      "[I 2020-01-30 12:06:59,349] Finished trial#42 resulted in value: 0.993845030502179. Current best value is 0.8124034042390885 with parameters: {'svr_c': 1.0320532437844891, 'epsilon': 0.6217671868361287}.\n",
      "[I 2020-01-30 12:06:59,446] Finished trial#43 resulted in value: 0.8384878747370726. Current best value is 0.8124034042390885 with parameters: {'svr_c': 1.0320532437844891, 'epsilon': 0.6217671868361287}.\n",
      "[I 2020-01-30 12:06:59,561] Finished trial#44 resulted in value: 0.8640414051891093. Current best value is 0.8124034042390885 with parameters: {'svr_c': 1.0320532437844891, 'epsilon': 0.6217671868361287}.\n",
      "[I 2020-01-30 12:06:59,649] Finished trial#45 resulted in value: 0.8706964509775981. Current best value is 0.8124034042390885 with parameters: {'svr_c': 1.0320532437844891, 'epsilon': 0.6217671868361287}.\n",
      "[I 2020-01-30 12:06:59,766] Finished trial#46 resulted in value: 0.8940333218430445. Current best value is 0.8124034042390885 with parameters: {'svr_c': 1.0320532437844891, 'epsilon': 0.6217671868361287}.\n",
      "[I 2020-01-30 12:06:59,987] Finished trial#47 resulted in value: 1.1634034000159887. Current best value is 0.8124034042390885 with parameters: {'svr_c': 1.0320532437844891, 'epsilon': 0.6217671868361287}.\n",
      "[I 2020-01-30 12:07:00,089] Finished trial#48 resulted in value: 0.8411486409973598. Current best value is 0.8124034042390885 with parameters: {'svr_c': 1.0320532437844891, 'epsilon': 0.6217671868361287}.\n",
      "[I 2020-01-30 12:07:00,245] Finished trial#49 resulted in value: 0.9729579750390347. Current best value is 0.8124034042390885 with parameters: {'svr_c': 1.0320532437844891, 'epsilon': 0.6217671868361287}.\n",
      "[I 2020-01-30 12:07:00,331] Finished trial#50 resulted in value: 0.8926791268090914. Current best value is 0.8124034042390885 with parameters: {'svr_c': 1.0320532437844891, 'epsilon': 0.6217671868361287}.\n",
      "[I 2020-01-30 12:07:00,438] Finished trial#51 resulted in value: 0.8266868243023522. Current best value is 0.8124034042390885 with parameters: {'svr_c': 1.0320532437844891, 'epsilon': 0.6217671868361287}.\n",
      "[I 2020-01-30 12:07:00,577] Finished trial#52 resulted in value: 0.8599767731170408. Current best value is 0.8124034042390885 with parameters: {'svr_c': 1.0320532437844891, 'epsilon': 0.6217671868361287}.\n",
      "[I 2020-01-30 12:07:00,694] Finished trial#53 resulted in value: 0.814118507019378. Current best value is 0.8124034042390885 with parameters: {'svr_c': 1.0320532437844891, 'epsilon': 0.6217671868361287}.\n",
      "[I 2020-01-30 12:07:00,814] Finished trial#54 resulted in value: 0.8153637483361791. Current best value is 0.8124034042390885 with parameters: {'svr_c': 1.0320532437844891, 'epsilon': 0.6217671868361287}.\n",
      "[I 2020-01-30 12:07:00,919] Finished trial#55 resulted in value: 0.8253158184093875. Current best value is 0.8124034042390885 with parameters: {'svr_c': 1.0320532437844891, 'epsilon': 0.6217671868361287}.\n",
      "[I 2020-01-30 12:07:01,029] Finished trial#56 resulted in value: 0.8141312997259412. Current best value is 0.8124034042390885 with parameters: {'svr_c': 1.0320532437844891, 'epsilon': 0.6217671868361287}.\n",
      "[I 2020-01-30 12:07:01,123] Finished trial#57 resulted in value: 0.8804085417950012. Current best value is 0.8124034042390885 with parameters: {'svr_c': 1.0320532437844891, 'epsilon': 0.6217671868361287}.\n",
      "[I 2020-01-30 12:07:01,225] Finished trial#58 resulted in value: 0.8448310525106935. Current best value is 0.8124034042390885 with parameters: {'svr_c': 1.0320532437844891, 'epsilon': 0.6217671868361287}.\n",
      "[I 2020-01-30 12:07:01,364] Finished trial#59 resulted in value: 0.9930861042321649. Current best value is 0.8124034042390885 with parameters: {'svr_c': 1.0320532437844891, 'epsilon': 0.6217671868361287}.\n",
      "[I 2020-01-30 12:07:01,484] Finished trial#60 resulted in value: 0.8511960468352389. Current best value is 0.8124034042390885 with parameters: {'svr_c': 1.0320532437844891, 'epsilon': 0.6217671868361287}.\n",
      "[I 2020-01-30 12:07:01,602] Finished trial#61 resulted in value: 0.8244460976169593. Current best value is 0.8124034042390885 with parameters: {'svr_c': 1.0320532437844891, 'epsilon': 0.6217671868361287}.\n",
      "[I 2020-01-30 12:07:01,713] Finished trial#62 resulted in value: 0.81447089982508. Current best value is 0.8124034042390885 with parameters: {'svr_c': 1.0320532437844891, 'epsilon': 0.6217671868361287}.\n",
      "[I 2020-01-30 12:07:01,832] Finished trial#63 resulted in value: 0.8145431750520529. Current best value is 0.8124034042390885 with parameters: {'svr_c': 1.0320532437844891, 'epsilon': 0.6217671868361287}.\n",
      "[I 2020-01-30 12:07:01,934] Finished trial#64 resulted in value: 0.8358139158352091. Current best value is 0.8124034042390885 with parameters: {'svr_c': 1.0320532437844891, 'epsilon': 0.6217671868361287}.\n",
      "[I 2020-01-30 12:07:02,050] Finished trial#65 resulted in value: 0.9613526999257851. Current best value is 0.8124034042390885 with parameters: {'svr_c': 1.0320532437844891, 'epsilon': 0.6217671868361287}.\n",
      "[I 2020-01-30 12:07:02,202] Finished trial#66 resulted in value: 0.821016507114514. Current best value is 0.8124034042390885 with parameters: {'svr_c': 1.0320532437844891, 'epsilon': 0.6217671868361287}.\n",
      "[I 2020-01-30 12:07:02,322] Finished trial#67 resulted in value: 0.8790746828949552. Current best value is 0.8124034042390885 with parameters: {'svr_c': 1.0320532437844891, 'epsilon': 0.6217671868361287}.\n",
      "[I 2020-01-30 12:07:02,502] Finished trial#68 resulted in value: 0.817054468107838. Current best value is 0.8124034042390885 with parameters: {'svr_c': 1.0320532437844891, 'epsilon': 0.6217671868361287}.\n",
      "[I 2020-01-30 12:07:02,638] Finished trial#69 resulted in value: 0.8701581199090004. Current best value is 0.8124034042390885 with parameters: {'svr_c': 1.0320532437844891, 'epsilon': 0.6217671868361287}.\n",
      "[I 2020-01-30 12:07:02,799] Finished trial#70 resulted in value: 0.8157042767205777. Current best value is 0.8124034042390885 with parameters: {'svr_c': 1.0320532437844891, 'epsilon': 0.6217671868361287}.\n",
      "[I 2020-01-30 12:07:02,936] Finished trial#71 resulted in value: 0.8195620387629188. Current best value is 0.8124034042390885 with parameters: {'svr_c': 1.0320532437844891, 'epsilon': 0.6217671868361287}.\n",
      "[I 2020-01-30 12:07:03,104] Finished trial#72 resulted in value: 0.8129488922857276. Current best value is 0.8124034042390885 with parameters: {'svr_c': 1.0320532437844891, 'epsilon': 0.6217671868361287}.\n",
      "[I 2020-01-30 12:07:03,221] Finished trial#73 resulted in value: 0.8365637416401652. Current best value is 0.8124034042390885 with parameters: {'svr_c': 1.0320532437844891, 'epsilon': 0.6217671868361287}.\n",
      "[I 2020-01-30 12:07:03,335] Finished trial#74 resulted in value: 0.8220004151457664. Current best value is 0.8124034042390885 with parameters: {'svr_c': 1.0320532437844891, 'epsilon': 0.6217671868361287}.\n",
      "[I 2020-01-30 12:07:03,450] Finished trial#75 resulted in value: 0.8253104774268298. Current best value is 0.8124034042390885 with parameters: {'svr_c': 1.0320532437844891, 'epsilon': 0.6217671868361287}.\n",
      "[I 2020-01-30 12:07:03,579] Finished trial#76 resulted in value: 0.8258023973349546. Current best value is 0.8124034042390885 with parameters: {'svr_c': 1.0320532437844891, 'epsilon': 0.6217671868361287}.\n",
      "[I 2020-01-30 12:07:03,756] Finished trial#77 resulted in value: 1.0103464471327743. Current best value is 0.8124034042390885 with parameters: {'svr_c': 1.0320532437844891, 'epsilon': 0.6217671868361287}.\n",
      "[I 2020-01-30 12:07:03,861] Finished trial#78 resulted in value: 0.8732744044611401. Current best value is 0.8124034042390885 with parameters: {'svr_c': 1.0320532437844891, 'epsilon': 0.6217671868361287}.\n",
      "[I 2020-01-30 12:07:03,985] Finished trial#79 resulted in value: 0.825872948140956. Current best value is 0.8124034042390885 with parameters: {'svr_c': 1.0320532437844891, 'epsilon': 0.6217671868361287}.\n",
      "[I 2020-01-30 12:07:04,109] Finished trial#80 resulted in value: 0.8245441126639431. Current best value is 0.8124034042390885 with parameters: {'svr_c': 1.0320532437844891, 'epsilon': 0.6217671868361287}.\n",
      "[I 2020-01-30 12:07:04,229] Finished trial#81 resulted in value: 0.8123076544137027. Current best value is 0.8123076544137027 with parameters: {'svr_c': 1.0032271292941919, 'epsilon': 0.6538397893268613}.\n",
      "[I 2020-01-30 12:07:04,331] Finished trial#82 resulted in value: 0.8136887136912861. Current best value is 0.8123076544137027 with parameters: {'svr_c': 1.0032271292941919, 'epsilon': 0.6538397893268613}.\n",
      "[I 2020-01-30 12:07:04,461] Finished trial#83 resulted in value: 0.8242273794445005. Current best value is 0.8123076544137027 with parameters: {'svr_c': 1.0032271292941919, 'epsilon': 0.6538397893268613}.\n",
      "[I 2020-01-30 12:07:04,602] Finished trial#84 resulted in value: 0.8156331550939574. Current best value is 0.8123076544137027 with parameters: {'svr_c': 1.0032271292941919, 'epsilon': 0.6538397893268613}.\n",
      "[I 2020-01-30 12:07:04,698] Finished trial#85 resulted in value: 0.8368537851925378. Current best value is 0.8123076544137027 with parameters: {'svr_c': 1.0032271292941919, 'epsilon': 0.6538397893268613}.\n",
      "[I 2020-01-30 12:07:04,808] Finished trial#86 resulted in value: 0.819391045860783. Current best value is 0.8123076544137027 with parameters: {'svr_c': 1.0032271292941919, 'epsilon': 0.6538397893268613}.\n",
      "[I 2020-01-30 12:07:04,945] Finished trial#87 resulted in value: 0.8433495749352194. Current best value is 0.8123076544137027 with parameters: {'svr_c': 1.0032271292941919, 'epsilon': 0.6538397893268613}.\n",
      "[I 2020-01-30 12:07:05,069] Finished trial#88 resulted in value: 0.8636194244423573. Current best value is 0.8123076544137027 with parameters: {'svr_c': 1.0032271292941919, 'epsilon': 0.6538397893268613}.\n",
      "[I 2020-01-30 12:07:05,166] Finished trial#89 resulted in value: 0.8481280482367135. Current best value is 0.8123076544137027 with parameters: {'svr_c': 1.0032271292941919, 'epsilon': 0.6538397893268613}.\n",
      "[I 2020-01-30 12:07:05,298] Finished trial#90 resulted in value: 0.8297465736951636. Current best value is 0.8123076544137027 with parameters: {'svr_c': 1.0032271292941919, 'epsilon': 0.6538397893268613}.\n",
      "[I 2020-01-30 12:07:05,410] Finished trial#91 resulted in value: 0.8123808349544063. Current best value is 0.8123076544137027 with parameters: {'svr_c': 1.0032271292941919, 'epsilon': 0.6538397893268613}.\n",
      "[I 2020-01-30 12:07:05,534] Finished trial#92 resulted in value: 0.8336384118817689. Current best value is 0.8123076544137027 with parameters: {'svr_c': 1.0032271292941919, 'epsilon': 0.6538397893268613}.\n",
      "[I 2020-01-30 12:07:05,656] Finished trial#93 resulted in value: 0.8120606169227546. Current best value is 0.8120606169227546 with parameters: {'svr_c': 1.000588153385211, 'epsilon': 0.6389110614945105}.\n",
      "[I 2020-01-30 12:07:05,792] Finished trial#94 resulted in value: 0.8146921240077899. Current best value is 0.8120606169227546 with parameters: {'svr_c': 1.000588153385211, 'epsilon': 0.6389110614945105}.\n",
      "[I 2020-01-30 12:07:05,926] Finished trial#95 resulted in value: 0.822957686232481. Current best value is 0.8120606169227546 with parameters: {'svr_c': 1.000588153385211, 'epsilon': 0.6389110614945105}.\n",
      "[I 2020-01-30 12:07:06,027] Finished trial#96 resulted in value: 0.8348444305304697. Current best value is 0.8120606169227546 with parameters: {'svr_c': 1.000588153385211, 'epsilon': 0.6389110614945105}.\n",
      "[I 2020-01-30 12:07:06,123] Finished trial#97 resulted in value: 0.8129573113693648. Current best value is 0.8120606169227546 with parameters: {'svr_c': 1.000588153385211, 'epsilon': 0.6389110614945105}.\n",
      "[I 2020-01-30 12:07:06,215] Finished trial#98 resulted in value: 0.837144669152764. Current best value is 0.8120606169227546 with parameters: {'svr_c': 1.000588153385211, 'epsilon': 0.6389110614945105}.\n",
      "[I 2020-01-30 12:07:06,329] Finished trial#99 resulted in value: 0.8154756398800724. Current best value is 0.8120606169227546 with parameters: {'svr_c': 1.000588153385211, 'epsilon': 0.6389110614945105}.\n"
     ]
    },
    {
     "name": "stdout",
     "output_type": "stream",
     "text": [
      "{'svr_c': 1.000588153385211, 'epsilon': 0.6389110614945105}\n",
      "0.8120606169227546\n",
      "FrozenTrial(number=93, value=0.8120606169227546, datetime_start=datetime.datetime(2020, 1, 30, 12, 7, 5, 537537), datetime_complete=datetime.datetime(2020, 1, 30, 12, 7, 5, 656102), params={'svr_c': 1.000588153385211, 'epsilon': 0.6389110614945105}, distributions={'svr_c': LogUniformDistribution(high=100.0, low=1.0), 'epsilon': LogUniformDistribution(high=10.0, low=0.1)}, user_attrs={}, system_attrs={'_number': 93}, intermediate_values={}, trial_id=93, state=TrialState.COMPLETE)\n"
     ]
    }
   ],
   "source": [
    "'''\n",
    "# optuna\n",
    "study = optuna.create_study()\n",
    "study.optimize(svr_optimaze, n_trials=100)\n",
    "\n",
    "# 最適解\n",
    "print(study.best_params)\n",
    "print(study.best_value)\n",
    "print(study.best_trial)\n",
    "'''\n",
    "#'svr_c': 1.003458214866715, 'epsilon': 0.7458180594811398"
   ]
  },
  {
   "cell_type": "code",
   "execution_count": 110,
   "metadata": {},
   "outputs": [
    {
     "data": {
      "text/plain": [
       "0.6583663376615313"
      ]
     },
     "execution_count": 110,
     "metadata": {},
     "output_type": "execute_result"
    }
   ],
   "source": [
    "model1 = SVR(C=1.000588153385211,\n",
    "             epsilon=0.6389110614945105)\n",
    "model2 = GradientBoostingRegressor(learning_rate=0.1,\n",
    "                                   max_depth=4,\n",
    "                                   max_features=1.0,\n",
    "                                   min_samples_leaf=3,\n",
    "                                   random_state=42)\n",
    "model3 = RandomForestRegressor(random_state=42)\n",
    "model4 = linear_model.LinearRegression()\n",
    "\n",
    "model1.fit(train_x_scaled,train_y)\n",
    "model2.fit(train_x_scaled,train_y)\n",
    "model3.fit(train_x_scaled,train_y)\n",
    "model4.fit(train_x_scaled,train_y)\n",
    "\n",
    "svr_pred = model1.predict(test_x_scaled)\n",
    "gbr_pred = model2.predict(test_x_scaled)\n",
    "rfr_pred = model3.predict(test_x_scaled)\n",
    "lin_pred = model4.predict(test_x_scaled)\n",
    "\n",
    "pred_y = (svr_pred + gbr_pred + lin_pred) / 3\n",
    "\n",
    "mean_squared_error(pred_y,test_y)"
   ]
  },
  {
   "cell_type": "code",
   "execution_count": 108,
   "metadata": {},
   "outputs": [],
   "source": [
    "sub = np.round((model1.predict(X_test_scaled) + model2.predict(X_test_scaled)+model4.predict(X_test_scaled))/3,1)\n",
    "submission = pd.read_csv(\"model/submission.csv\")\n",
    "submission['quality'] = sub\n",
    "submission.to_csv('model/svr_gbr_lin_removeSugar_round.csv', index=False)\n"
   ]
  },
  {
   "cell_type": "code",
   "execution_count": null,
   "metadata": {},
   "outputs": [],
   "source": [
    "0.6583663376615313"
   ]
  }
 ],
 "metadata": {
  "kernelspec": {
   "display_name": "Python 3",
   "language": "python",
   "name": "python3"
  },
  "language_info": {
   "codemirror_mode": {
    "name": "ipython",
    "version": 3
   },
   "file_extension": ".py",
   "mimetype": "text/x-python",
   "name": "python",
   "nbconvert_exporter": "python",
   "pygments_lexer": "ipython3",
   "version": "3.7.0"
  }
 },
 "nbformat": 4,
 "nbformat_minor": 4
}
