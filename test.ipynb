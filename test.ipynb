{
 "cells": [
  {
   "cell_type": "code",
   "execution_count": 1,
   "metadata": {},
   "outputs": [],
   "source": [
    "import pandas as pd\n",
    "import matplotlib.pyplot as plt\n",
    "import numpy as np"
   ]
  },
  {
   "cell_type": "code",
   "execution_count": 2,
   "metadata": {},
   "outputs": [],
   "source": [
    "path = \"input/\"\n",
    "\n",
    "wine = pd.read_csv(path + 'train.csv')\n",
    "wine_test = pd.read_csv(path + 'test.csv')"
   ]
  },
  {
   "cell_type": "code",
   "execution_count": 5,
   "metadata": {},
   "outputs": [
    {
     "data": {
      "text/plain": [
       "fixed acidity             0\n",
       "volatile acidity          0\n",
       "citric acid               0\n",
       "residual sugar            0\n",
       "chlorides                 0\n",
       "free sulfur dioxide       0\n",
       "total sulfur dioxide      0\n",
       "density                 122\n",
       "pH                      137\n",
       "sulphates                 0\n",
       "alcohol                   0\n",
       "quality                   0\n",
       "dtype: int64"
      ]
     },
     "execution_count": 5,
     "metadata": {},
     "output_type": "execute_result"
    }
   ],
   "source": [
    "wine.isnull().sum()"
   ]
  },
  {
   "cell_type": "code",
   "execution_count": 6,
   "metadata": {},
   "outputs": [
    {
     "data": {
      "text/plain": [
       "fixed acidity           0\n",
       "volatile acidity        0\n",
       "citric acid             0\n",
       "residual sugar          0\n",
       "chlorides               0\n",
       "free sulfur dioxide     0\n",
       "total sulfur dioxide    0\n",
       "density                 0\n",
       "pH                      0\n",
       "sulphates               0\n",
       "alcohol                 0\n",
       "quality                 0\n",
       "dtype: int64"
      ]
     },
     "execution_count": 6,
     "metadata": {},
     "output_type": "execute_result"
    }
   ],
   "source": [
    "#平均値埋め\n",
    "wine['density'].fillna(wine['density'].mean(), inplace=True)\n",
    "wine_test['density'].fillna(wine['density'].mean(), inplace=True)\n",
    "\n",
    "wine['pH'].fillna(wine['pH'].mean(), inplace=True)\n",
    "wine_test['pH'].fillna(wine['pH'].mean(), inplace=True)\n",
    "\n",
    "wine.isnull().sum()"
   ]
  },
  {
   "cell_type": "code",
   "execution_count": 7,
   "metadata": {},
   "outputs": [
    {
     "data": {
      "text/html": [
       "<div>\n",
       "<style scoped>\n",
       "    .dataframe tbody tr th:only-of-type {\n",
       "        vertical-align: middle;\n",
       "    }\n",
       "\n",
       "    .dataframe tbody tr th {\n",
       "        vertical-align: top;\n",
       "    }\n",
       "\n",
       "    .dataframe thead th {\n",
       "        text-align: right;\n",
       "    }\n",
       "</style>\n",
       "<table border=\"1\" class=\"dataframe\">\n",
       "  <thead>\n",
       "    <tr style=\"text-align: right;\">\n",
       "      <th></th>\n",
       "      <th>fixed acidity</th>\n",
       "      <th>volatile acidity</th>\n",
       "      <th>citric acid</th>\n",
       "      <th>residual sugar</th>\n",
       "      <th>chlorides</th>\n",
       "      <th>free sulfur dioxide</th>\n",
       "      <th>total sulfur dioxide</th>\n",
       "      <th>density</th>\n",
       "      <th>pH</th>\n",
       "      <th>sulphates</th>\n",
       "      <th>alcohol</th>\n",
       "      <th>quality</th>\n",
       "    </tr>\n",
       "  </thead>\n",
       "  <tbody>\n",
       "    <tr>\n",
       "      <th>count</th>\n",
       "      <td>1280.00000</td>\n",
       "      <td>1280.000000</td>\n",
       "      <td>1280.000000</td>\n",
       "      <td>1280.000000</td>\n",
       "      <td>1280.000000</td>\n",
       "      <td>1280.000000</td>\n",
       "      <td>1280.000000</td>\n",
       "      <td>1280.000000</td>\n",
       "      <td>1280.000000</td>\n",
       "      <td>1280.000000</td>\n",
       "      <td>1280.000000</td>\n",
       "      <td>1280.000000</td>\n",
       "    </tr>\n",
       "    <tr>\n",
       "      <th>mean</th>\n",
       "      <td>8.34125</td>\n",
       "      <td>0.527187</td>\n",
       "      <td>0.271383</td>\n",
       "      <td>2.549766</td>\n",
       "      <td>0.087614</td>\n",
       "      <td>15.599844</td>\n",
       "      <td>45.652812</td>\n",
       "      <td>0.997019</td>\n",
       "      <td>3.309405</td>\n",
       "      <td>0.658953</td>\n",
       "      <td>10.427813</td>\n",
       "      <td>5.614297</td>\n",
       "    </tr>\n",
       "    <tr>\n",
       "      <th>std</th>\n",
       "      <td>1.74115</td>\n",
       "      <td>0.181153</td>\n",
       "      <td>0.194353</td>\n",
       "      <td>1.452651</td>\n",
       "      <td>0.049233</td>\n",
       "      <td>10.482150</td>\n",
       "      <td>32.914044</td>\n",
       "      <td>0.009760</td>\n",
       "      <td>0.149534</td>\n",
       "      <td>0.175200</td>\n",
       "      <td>1.065322</td>\n",
       "      <td>0.987628</td>\n",
       "    </tr>\n",
       "    <tr>\n",
       "      <th>min</th>\n",
       "      <td>4.70000</td>\n",
       "      <td>0.120000</td>\n",
       "      <td>0.000000</td>\n",
       "      <td>0.900000</td>\n",
       "      <td>0.012000</td>\n",
       "      <td>1.000000</td>\n",
       "      <td>6.000000</td>\n",
       "      <td>0.951600</td>\n",
       "      <td>2.720000</td>\n",
       "      <td>0.330000</td>\n",
       "      <td>8.400000</td>\n",
       "      <td>2.500000</td>\n",
       "    </tr>\n",
       "    <tr>\n",
       "      <th>25%</th>\n",
       "      <td>7.10000</td>\n",
       "      <td>0.390000</td>\n",
       "      <td>0.100000</td>\n",
       "      <td>1.900000</td>\n",
       "      <td>0.070000</td>\n",
       "      <td>7.000000</td>\n",
       "      <td>21.675000</td>\n",
       "      <td>0.991000</td>\n",
       "      <td>3.220000</td>\n",
       "      <td>0.550000</td>\n",
       "      <td>9.500000</td>\n",
       "      <td>4.900000</td>\n",
       "    </tr>\n",
       "    <tr>\n",
       "      <th>50%</th>\n",
       "      <td>8.00000</td>\n",
       "      <td>0.520000</td>\n",
       "      <td>0.260000</td>\n",
       "      <td>2.200000</td>\n",
       "      <td>0.079000</td>\n",
       "      <td>13.100000</td>\n",
       "      <td>36.800000</td>\n",
       "      <td>0.997019</td>\n",
       "      <td>3.309405</td>\n",
       "      <td>0.620000</td>\n",
       "      <td>10.200000</td>\n",
       "      <td>5.500000</td>\n",
       "    </tr>\n",
       "    <tr>\n",
       "      <th>75%</th>\n",
       "      <td>9.30000</td>\n",
       "      <td>0.640000</td>\n",
       "      <td>0.430000</td>\n",
       "      <td>2.600000</td>\n",
       "      <td>0.090250</td>\n",
       "      <td>20.925000</td>\n",
       "      <td>60.350000</td>\n",
       "      <td>1.002600</td>\n",
       "      <td>3.390000</td>\n",
       "      <td>0.730000</td>\n",
       "      <td>11.100000</td>\n",
       "      <td>6.300000</td>\n",
       "    </tr>\n",
       "    <tr>\n",
       "      <th>max</th>\n",
       "      <td>15.90000</td>\n",
       "      <td>1.610000</td>\n",
       "      <td>1.000000</td>\n",
       "      <td>15.500000</td>\n",
       "      <td>0.615000</td>\n",
       "      <td>71.800000</td>\n",
       "      <td>290.300000</td>\n",
       "      <td>1.029000</td>\n",
       "      <td>3.970000</td>\n",
       "      <td>2.050000</td>\n",
       "      <td>15.000000</td>\n",
       "      <td>9.700000</td>\n",
       "    </tr>\n",
       "  </tbody>\n",
       "</table>\n",
       "</div>"
      ],
      "text/plain": [
       "       fixed acidity  volatile acidity  citric acid  residual sugar  \\\n",
       "count     1280.00000       1280.000000  1280.000000     1280.000000   \n",
       "mean         8.34125          0.527187     0.271383        2.549766   \n",
       "std          1.74115          0.181153     0.194353        1.452651   \n",
       "min          4.70000          0.120000     0.000000        0.900000   \n",
       "25%          7.10000          0.390000     0.100000        1.900000   \n",
       "50%          8.00000          0.520000     0.260000        2.200000   \n",
       "75%          9.30000          0.640000     0.430000        2.600000   \n",
       "max         15.90000          1.610000     1.000000       15.500000   \n",
       "\n",
       "         chlorides  free sulfur dioxide  total sulfur dioxide      density  \\\n",
       "count  1280.000000          1280.000000           1280.000000  1280.000000   \n",
       "mean      0.087614            15.599844             45.652812     0.997019   \n",
       "std       0.049233            10.482150             32.914044     0.009760   \n",
       "min       0.012000             1.000000              6.000000     0.951600   \n",
       "25%       0.070000             7.000000             21.675000     0.991000   \n",
       "50%       0.079000            13.100000             36.800000     0.997019   \n",
       "75%       0.090250            20.925000             60.350000     1.002600   \n",
       "max       0.615000            71.800000            290.300000     1.029000   \n",
       "\n",
       "                pH    sulphates      alcohol      quality  \n",
       "count  1280.000000  1280.000000  1280.000000  1280.000000  \n",
       "mean      3.309405     0.658953    10.427813     5.614297  \n",
       "std       0.149534     0.175200     1.065322     0.987628  \n",
       "min       2.720000     0.330000     8.400000     2.500000  \n",
       "25%       3.220000     0.550000     9.500000     4.900000  \n",
       "50%       3.309405     0.620000    10.200000     5.500000  \n",
       "75%       3.390000     0.730000    11.100000     6.300000  \n",
       "max       3.970000     2.050000    15.000000     9.700000  "
      ]
     },
     "execution_count": 7,
     "metadata": {},
     "output_type": "execute_result"
    }
   ],
   "source": [
    "wine.describe()"
   ]
  },
  {
   "cell_type": "markdown",
   "metadata": {},
   "source": [
    "モデル構築"
   ]
  },
  {
   "cell_type": "code",
   "execution_count": 41,
   "metadata": {},
   "outputs": [],
   "source": [
    "y = wine.quality\n",
    "X = wine.drop('quality',axis = 1)\n",
    "\n",
    "X_test = wine_test.iloc[:, 0:].values"
   ]
  },
  {
   "cell_type": "code",
   "execution_count": 12,
   "metadata": {},
   "outputs": [],
   "source": [
    "from sklearn.model_selection import train_test_split\n",
    "from sklearn import preprocessing\n",
    "\n",
    "train_x,test_x,train_y,test_y = train_test_split(X,y,test_size=0.3, random_state = 42)"
   ]
  },
  {
   "cell_type": "code",
   "execution_count": 45,
   "metadata": {},
   "outputs": [],
   "source": [
    "#scaling\n",
    "\n",
    "scaler = preprocessing.StandardScaler().fit(train_x)\n",
    "train_x_scaled = scaler.transform(train_x)\n",
    "X_test_scaled = scaler.transform(X_test)"
   ]
  },
  {
   "cell_type": "code",
   "execution_count": 15,
   "metadata": {},
   "outputs": [],
   "source": [
    "test_x_scaled = scaler.transform(test_x)"
   ]
  },
  {
   "cell_type": "code",
   "execution_count": 16,
   "metadata": {},
   "outputs": [
    {
     "name": "stderr",
     "output_type": "stream",
     "text": [
      "/Users/lili/.pyenv/versions/anaconda3-5.3.1/lib/python3.7/site-packages/sklearn/ensemble/weight_boosting.py:29: DeprecationWarning: numpy.core.umath_tests is an internal NumPy module and should not be imported. It will be removed in a future NumPy release.\n",
      "  from numpy.core.umath_tests import inner1d\n"
     ]
    }
   ],
   "source": [
    "from sklearn import model_selection\n",
    "from sklearn.tree import DecisionTreeRegressor\n",
    "from sklearn.ensemble import RandomForestRegressor\n",
    "from sklearn.ensemble import GradientBoostingRegressor\n",
    "from sklearn.svm import SVR\n",
    "from sklearn.metrics import mean_absolute_error"
   ]
  },
  {
   "cell_type": "code",
   "execution_count": 17,
   "metadata": {},
   "outputs": [],
   "source": [
    "models = []\n",
    "models.append(('DecisionTree', DecisionTreeRegressor()))\n",
    "models.append(('RandomForest', RandomForestRegressor()))\n",
    "models.append(('GradienBoost', GradientBoostingRegressor()))\n",
    "models.append(('SVR', SVR()))\n",
    "names = []"
   ]
  },
  {
   "cell_type": "code",
   "execution_count": 18,
   "metadata": {},
   "outputs": [
    {
     "name": "stdout",
     "output_type": "stream",
     "text": [
      "DecisionTree: 0.935906\n",
      "RandomForest: 0.704478\n",
      "GradienBoost: 0.681625\n",
      "SVR: 0.680730\n"
     ]
    }
   ],
   "source": [
    "for name,model in models:\n",
    "    kfold = model_selection.KFold(n_splits=5,random_state=42)\n",
    "    cv_results = model_selection.cross_val_score(model,train_x_scaled,train_y, cv= kfold, scoring = 'neg_mean_absolute_error')\n",
    "    names.append(name)\n",
    "    msg  = \"%s: %f\" % (name, -1*(cv_results).mean())\n",
    "    print(msg)"
   ]
  },
  {
   "cell_type": "code",
   "execution_count": 19,
   "metadata": {},
   "outputs": [],
   "source": [
    "model = SVR()\n",
    "model.fit(train_x_scaled,train_y)\n",
    "pred_y = model.predict(test_x_scaled)"
   ]
  },
  {
   "cell_type": "code",
   "execution_count": 21,
   "metadata": {},
   "outputs": [
    {
     "data": {
      "text/plain": [
       "0.6879232452309095"
      ]
     },
     "execution_count": 21,
     "metadata": {},
     "output_type": "execute_result"
    }
   ],
   "source": [
    "mean_absolute_error(pred_y,test_y)"
   ]
  },
  {
   "cell_type": "code",
   "execution_count": 22,
   "metadata": {},
   "outputs": [
    {
     "data": {
      "text/plain": [
       "\u001b[0;31mInit signature:\u001b[0m \u001b[0mSVR\u001b[0m\u001b[0;34m(\u001b[0m\u001b[0mkernel\u001b[0m\u001b[0;34m=\u001b[0m\u001b[0;34m'rbf'\u001b[0m\u001b[0;34m,\u001b[0m \u001b[0mdegree\u001b[0m\u001b[0;34m=\u001b[0m\u001b[0;36m3\u001b[0m\u001b[0;34m,\u001b[0m \u001b[0mgamma\u001b[0m\u001b[0;34m=\u001b[0m\u001b[0;34m'auto'\u001b[0m\u001b[0;34m,\u001b[0m \u001b[0mcoef0\u001b[0m\u001b[0;34m=\u001b[0m\u001b[0;36m0.0\u001b[0m\u001b[0;34m,\u001b[0m \u001b[0mtol\u001b[0m\u001b[0;34m=\u001b[0m\u001b[0;36m0.001\u001b[0m\u001b[0;34m,\u001b[0m \u001b[0mC\u001b[0m\u001b[0;34m=\u001b[0m\u001b[0;36m1.0\u001b[0m\u001b[0;34m,\u001b[0m \u001b[0mepsilon\u001b[0m\u001b[0;34m=\u001b[0m\u001b[0;36m0.1\u001b[0m\u001b[0;34m,\u001b[0m \u001b[0mshrinking\u001b[0m\u001b[0;34m=\u001b[0m\u001b[0;32mTrue\u001b[0m\u001b[0;34m,\u001b[0m \u001b[0mcache_size\u001b[0m\u001b[0;34m=\u001b[0m\u001b[0;36m200\u001b[0m\u001b[0;34m,\u001b[0m \u001b[0mverbose\u001b[0m\u001b[0;34m=\u001b[0m\u001b[0;32mFalse\u001b[0m\u001b[0;34m,\u001b[0m \u001b[0mmax_iter\u001b[0m\u001b[0;34m=\u001b[0m\u001b[0;34m-\u001b[0m\u001b[0;36m1\u001b[0m\u001b[0;34m)\u001b[0m\u001b[0;34m\u001b[0m\u001b[0m\n",
       "\u001b[0;31mDocstring:\u001b[0m     \n",
       "Epsilon-Support Vector Regression.\n",
       "\n",
       "The free parameters in the model are C and epsilon.\n",
       "\n",
       "The implementation is based on libsvm.\n",
       "\n",
       "Read more in the :ref:`User Guide <svm_regression>`.\n",
       "\n",
       "Parameters\n",
       "----------\n",
       "C : float, optional (default=1.0)\n",
       "    Penalty parameter C of the error term.\n",
       "\n",
       "epsilon : float, optional (default=0.1)\n",
       "     Epsilon in the epsilon-SVR model. It specifies the epsilon-tube\n",
       "     within which no penalty is associated in the training loss function\n",
       "     with points predicted within a distance epsilon from the actual\n",
       "     value.\n",
       "\n",
       "kernel : string, optional (default='rbf')\n",
       "     Specifies the kernel type to be used in the algorithm.\n",
       "     It must be one of 'linear', 'poly', 'rbf', 'sigmoid', 'precomputed' or\n",
       "     a callable.\n",
       "     If none is given, 'rbf' will be used. If a callable is given it is\n",
       "     used to precompute the kernel matrix.\n",
       "\n",
       "degree : int, optional (default=3)\n",
       "    Degree of the polynomial kernel function ('poly').\n",
       "    Ignored by all other kernels.\n",
       "\n",
       "gamma : float, optional (default='auto')\n",
       "    Kernel coefficient for 'rbf', 'poly' and 'sigmoid'.\n",
       "    If gamma is 'auto' then 1/n_features will be used instead.\n",
       "\n",
       "coef0 : float, optional (default=0.0)\n",
       "    Independent term in kernel function.\n",
       "    It is only significant in 'poly' and 'sigmoid'.\n",
       "\n",
       "shrinking : boolean, optional (default=True)\n",
       "    Whether to use the shrinking heuristic.\n",
       "\n",
       "tol : float, optional (default=1e-3)\n",
       "    Tolerance for stopping criterion.\n",
       "\n",
       "cache_size : float, optional\n",
       "    Specify the size of the kernel cache (in MB).\n",
       "\n",
       "verbose : bool, default: False\n",
       "    Enable verbose output. Note that this setting takes advantage of a\n",
       "    per-process runtime setting in libsvm that, if enabled, may not work\n",
       "    properly in a multithreaded context.\n",
       "\n",
       "max_iter : int, optional (default=-1)\n",
       "    Hard limit on iterations within solver, or -1 for no limit.\n",
       "\n",
       "Attributes\n",
       "----------\n",
       "support_ : array-like, shape = [n_SV]\n",
       "    Indices of support vectors.\n",
       "\n",
       "support_vectors_ : array-like, shape = [nSV, n_features]\n",
       "    Support vectors.\n",
       "\n",
       "dual_coef_ : array, shape = [1, n_SV]\n",
       "    Coefficients of the support vector in the decision function.\n",
       "\n",
       "coef_ : array, shape = [1, n_features]\n",
       "    Weights assigned to the features (coefficients in the primal\n",
       "    problem). This is only available in the case of a linear kernel.\n",
       "\n",
       "    `coef_` is readonly property derived from `dual_coef_` and\n",
       "    `support_vectors_`.\n",
       "\n",
       "intercept_ : array, shape = [1]\n",
       "    Constants in decision function.\n",
       "\n",
       "sample_weight : array-like, shape = [n_samples]\n",
       "        Individual weights for each sample\n",
       "\n",
       "Examples\n",
       "--------\n",
       ">>> from sklearn.svm import SVR\n",
       ">>> import numpy as np\n",
       ">>> n_samples, n_features = 10, 5\n",
       ">>> np.random.seed(0)\n",
       ">>> y = np.random.randn(n_samples)\n",
       ">>> X = np.random.randn(n_samples, n_features)\n",
       ">>> clf = SVR(C=1.0, epsilon=0.2)\n",
       ">>> clf.fit(X, y) #doctest: +NORMALIZE_WHITESPACE\n",
       "SVR(C=1.0, cache_size=200, coef0=0.0, degree=3, epsilon=0.2, gamma='auto',\n",
       "    kernel='rbf', max_iter=-1, shrinking=True, tol=0.001, verbose=False)\n",
       "\n",
       "See also\n",
       "--------\n",
       "NuSVR\n",
       "    Support Vector Machine for regression implemented using libsvm\n",
       "    using a parameter to control the number of support vectors.\n",
       "\n",
       "LinearSVR\n",
       "    Scalable Linear Support Vector Machine for regression\n",
       "    implemented using liblinear.\n",
       "\u001b[0;31mFile:\u001b[0m           ~/.pyenv/versions/anaconda3-5.3.1/lib/python3.7/site-packages/sklearn/svm/classes.py\n",
       "\u001b[0;31mType:\u001b[0m           ABCMeta\n"
      ]
     },
     "metadata": {},
     "output_type": "display_data"
    }
   ],
   "source": [
    "SVR?"
   ]
  },
  {
   "cell_type": "code",
   "execution_count": 36,
   "metadata": {},
   "outputs": [],
   "source": [
    "def objective(trial):\n",
    "    # C\n",
    "    svr_c = trial.suggest_loguniform('svr_c', 1e0, 1e2)\n",
    "    # epsilon\n",
    "    epsilon = trial.suggest_loguniform('epsilon', 1e-1, 1e1)\n",
    "    # SVR\n",
    "    svr = SVR(C=svr_c, epsilon=epsilon)\n",
    "    svr.fit(train_x, train_y)\n",
    "    # 予測\n",
    "    y_pred = svr.predict(test_x)\n",
    "    # CrossvalidationのMSEで比較（最大化がまだサポートされていない）\n",
    "    return mean_squared_error(test_y, y_pred)"
   ]
  },
  {
   "cell_type": "code",
   "execution_count": 37,
   "metadata": {},
   "outputs": [],
   "source": [
    "import optuna\n",
    "from sklearn.metrics import mean_squared_error"
   ]
  },
  {
   "cell_type": "code",
   "execution_count": 38,
   "metadata": {},
   "outputs": [
    {
     "name": "stderr",
     "output_type": "stream",
     "text": [
      "[I 2020-01-23 16:28:46,834] Finished trial#0 resulted in value: 0.9358520924428387. Current best value is 0.9358520924428387 with parameters: {'svr_c': 1.6938034781101228, 'epsilon': 1.9323310652638668}.\n",
      "[I 2020-01-23 16:28:47,003] Finished trial#1 resulted in value: 1.0004085068013115. Current best value is 0.9358520924428387 with parameters: {'svr_c': 1.6938034781101228, 'epsilon': 1.9323310652638668}.\n",
      "[I 2020-01-23 16:28:47,111] Finished trial#2 resulted in value: 0.903864799817191. Current best value is 0.903864799817191 with parameters: {'svr_c': 3.8854386055389276, 'epsilon': 0.8391522709433139}.\n",
      "[I 2020-01-23 16:28:47,370] Finished trial#3 resulted in value: 1.0647764919549418. Current best value is 0.903864799817191 with parameters: {'svr_c': 3.8854386055389276, 'epsilon': 0.8391522709433139}.\n",
      "[I 2020-01-23 16:28:47,452] Finished trial#4 resulted in value: 0.9002484866970102. Current best value is 0.9002484866970102 with parameters: {'svr_c': 41.16769406334698, 'epsilon': 1.483363854113312}.\n",
      "[I 2020-01-23 16:28:47,547] Finished trial#5 resulted in value: 0.9000081813954078. Current best value is 0.9000081813954078 with parameters: {'svr_c': 2.085333335008395, 'epsilon': 1.230173375563965}.\n",
      "[I 2020-01-23 16:28:47,679] Finished trial#6 resulted in value: 0.9028112675058414. Current best value is 0.9000081813954078 with parameters: {'svr_c': 2.085333335008395, 'epsilon': 1.230173375563965}.\n",
      "[I 2020-01-23 16:28:47,875] Finished trial#7 resulted in value: 1.110826351079399. Current best value is 0.9000081813954078 with parameters: {'svr_c': 2.085333335008395, 'epsilon': 1.230173375563965}.\n",
      "[I 2020-01-23 16:28:47,962] Finished trial#8 resulted in value: 1.2523437499999996. Current best value is 0.9000081813954078 with parameters: {'svr_c': 2.085333335008395, 'epsilon': 1.230173375563965}.\n",
      "[I 2020-01-23 16:28:48,153] Finished trial#9 resulted in value: 0.9930407381157637. Current best value is 0.9000081813954078 with parameters: {'svr_c': 2.085333335008395, 'epsilon': 1.230173375563965}.\n",
      "[I 2020-01-23 16:28:48,238] Finished trial#10 resulted in value: 1.2523437499999996. Current best value is 0.9000081813954078 with parameters: {'svr_c': 2.085333335008395, 'epsilon': 1.230173375563965}.\n",
      "[I 2020-01-23 16:28:48,320] Finished trial#11 resulted in value: 0.9752423097508967. Current best value is 0.9000081813954078 with parameters: {'svr_c': 2.085333335008395, 'epsilon': 1.230173375563965}.\n",
      "[I 2020-01-23 16:28:48,404] Finished trial#12 resulted in value: 0.9350305033819364. Current best value is 0.9000081813954078 with parameters: {'svr_c': 2.085333335008395, 'epsilon': 1.230173375563965}.\n",
      "[I 2020-01-23 16:28:48,676] Finished trial#13 resulted in value: 1.181304626374742. Current best value is 0.9000081813954078 with parameters: {'svr_c': 2.085333335008395, 'epsilon': 1.230173375563965}.\n",
      "[I 2020-01-23 16:28:48,795] Finished trial#14 resulted in value: 1.2523437499999996. Current best value is 0.9000081813954078 with parameters: {'svr_c': 2.085333335008395, 'epsilon': 1.230173375563965}.\n",
      "[I 2020-01-23 16:28:48,923] Finished trial#15 resulted in value: 0.9037625521800221. Current best value is 0.9000081813954078 with parameters: {'svr_c': 2.085333335008395, 'epsilon': 1.230173375563965}.\n",
      "[I 2020-01-23 16:28:49,106] Finished trial#16 resulted in value: 0.9745394631157837. Current best value is 0.9000081813954078 with parameters: {'svr_c': 2.085333335008395, 'epsilon': 1.230173375563965}.\n",
      "[I 2020-01-23 16:28:49,217] Finished trial#17 resulted in value: 0.9007641569791822. Current best value is 0.9000081813954078 with parameters: {'svr_c': 2.085333335008395, 'epsilon': 1.230173375563965}.\n",
      "[I 2020-01-23 16:28:49,307] Finished trial#18 resulted in value: 1.2523437499999996. Current best value is 0.9000081813954078 with parameters: {'svr_c': 2.085333335008395, 'epsilon': 1.230173375563965}.\n",
      "[I 2020-01-23 16:28:49,388] Finished trial#19 resulted in value: 1.2523437499999996. Current best value is 0.9000081813954078 with parameters: {'svr_c': 2.085333335008395, 'epsilon': 1.230173375563965}.\n",
      "[I 2020-01-23 16:28:49,477] Finished trial#20 resulted in value: 1.0142228574243781. Current best value is 0.9000081813954078 with parameters: {'svr_c': 2.085333335008395, 'epsilon': 1.230173375563965}.\n",
      "[I 2020-01-23 16:28:49,584] Finished trial#21 resulted in value: 0.8958504864625372. Current best value is 0.8958504864625372 with parameters: {'svr_c': 15.627470968099976, 'epsilon': 1.2329395377486612}.\n",
      "[I 2020-01-23 16:28:49,687] Finished trial#22 resulted in value: 0.9033677243492662. Current best value is 0.8958504864625372 with parameters: {'svr_c': 15.627470968099976, 'epsilon': 1.2329395377486612}.\n",
      "[I 2020-01-23 16:28:49,799] Finished trial#23 resulted in value: 0.8975468787687113. Current best value is 0.8958504864625372 with parameters: {'svr_c': 15.627470968099976, 'epsilon': 1.2329395377486612}.\n",
      "[I 2020-01-23 16:28:49,928] Finished trial#24 resulted in value: 0.8972902430310915. Current best value is 0.8958504864625372 with parameters: {'svr_c': 15.627470968099976, 'epsilon': 1.2329395377486612}.\n",
      "[I 2020-01-23 16:28:50,086] Finished trial#25 resulted in value: 0.9030399645393024. Current best value is 0.8958504864625372 with parameters: {'svr_c': 15.627470968099976, 'epsilon': 1.2329395377486612}.\n",
      "[I 2020-01-23 16:28:50,446] Finished trial#26 resulted in value: 0.9184782620458597. Current best value is 0.8958504864625372 with parameters: {'svr_c': 15.627470968099976, 'epsilon': 1.2329395377486612}.\n",
      "[I 2020-01-23 16:28:50,587] Finished trial#27 resulted in value: 0.8942985837575773. Current best value is 0.8942985837575773 with parameters: {'svr_c': 1.5874706437580053, 'epsilon': 0.6990267116015065}.\n",
      "[I 2020-01-23 16:28:50,807] Finished trial#28 resulted in value: 0.8809650689296488. Current best value is 0.8809650689296488 with parameters: {'svr_c': 1.4489606869317924, 'epsilon': 0.6220152779336778}.\n",
      "[I 2020-01-23 16:28:51,015] Finished trial#29 resulted in value: 0.8768636160351547. Current best value is 0.8768636160351547 with parameters: {'svr_c': 1.2760637998417275, 'epsilon': 0.21217892424015586}.\n",
      "[I 2020-01-23 16:28:51,271] Finished trial#30 resulted in value: 0.898107385188319. Current best value is 0.8768636160351547 with parameters: {'svr_c': 1.2760637998417275, 'epsilon': 0.21217892424015586}.\n",
      "[I 2020-01-23 16:28:51,449] Finished trial#31 resulted in value: 0.8865115324930252. Current best value is 0.8768636160351547 with parameters: {'svr_c': 1.2760637998417275, 'epsilon': 0.21217892424015586}.\n",
      "[I 2020-01-23 16:28:51,600] Finished trial#32 resulted in value: 0.8814933602792031. Current best value is 0.8768636160351547 with parameters: {'svr_c': 1.2760637998417275, 'epsilon': 0.21217892424015586}.\n",
      "[I 2020-01-23 16:28:51,739] Finished trial#33 resulted in value: 0.8821547853976098. Current best value is 0.8768636160351547 with parameters: {'svr_c': 1.2760637998417275, 'epsilon': 0.21217892424015586}.\n",
      "[I 2020-01-23 16:28:51,886] Finished trial#34 resulted in value: 0.8699065290817347. Current best value is 0.8699065290817347 with parameters: {'svr_c': 1.0451338552991607, 'epsilon': 0.1407819467425574}.\n",
      "[I 2020-01-23 16:28:52,028] Finished trial#35 resulted in value: 0.8707279972550378. Current best value is 0.8699065290817347 with parameters: {'svr_c': 1.0451338552991607, 'epsilon': 0.1407819467425574}.\n",
      "[I 2020-01-23 16:28:52,153] Finished trial#36 resulted in value: 0.8588399561629085. Current best value is 0.8588399561629085 with parameters: {'svr_c': 1.0068565824705786, 'epsilon': 0.3451710743383494}.\n",
      "[I 2020-01-23 16:28:52,313] Finished trial#37 resulted in value: 0.8758565396497359. Current best value is 0.8588399561629085 with parameters: {'svr_c': 1.0068565824705786, 'epsilon': 0.3451710743383494}.\n",
      "[I 2020-01-23 16:28:52,500] Finished trial#38 resulted in value: 0.8665624156937527. Current best value is 0.8588399561629085 with parameters: {'svr_c': 1.0068565824705786, 'epsilon': 0.3451710743383494}.\n",
      "[I 2020-01-23 16:28:52,641] Finished trial#39 resulted in value: 0.8964701104732571. Current best value is 0.8588399561629085 with parameters: {'svr_c': 1.0068565824705786, 'epsilon': 0.3451710743383494}.\n",
      "[I 2020-01-23 16:28:52,804] Finished trial#40 resulted in value: 0.942253493964856. Current best value is 0.8588399561629085 with parameters: {'svr_c': 1.0068565824705786, 'epsilon': 0.3451710743383494}.\n",
      "[I 2020-01-23 16:28:52,977] Finished trial#41 resulted in value: 0.8724127320669187. Current best value is 0.8588399561629085 with parameters: {'svr_c': 1.0068565824705786, 'epsilon': 0.3451710743383494}.\n",
      "[I 2020-01-23 16:28:53,138] Finished trial#42 resulted in value: 0.8715291360853934. Current best value is 0.8588399561629085 with parameters: {'svr_c': 1.0068565824705786, 'epsilon': 0.3451710743383494}.\n",
      "[I 2020-01-23 16:28:53,283] Finished trial#43 resulted in value: 0.9129258269802687. Current best value is 0.8588399561629085 with parameters: {'svr_c': 1.0068565824705786, 'epsilon': 0.3451710743383494}.\n",
      "[I 2020-01-23 16:28:53,421] Finished trial#44 resulted in value: 0.8664158462314306. Current best value is 0.8588399561629085 with parameters: {'svr_c': 1.0068565824705786, 'epsilon': 0.3451710743383494}.\n",
      "[I 2020-01-23 16:28:53,561] Finished trial#45 resulted in value: 0.9097954065774321. Current best value is 0.8588399561629085 with parameters: {'svr_c': 1.0068565824705786, 'epsilon': 0.3451710743383494}.\n",
      "[I 2020-01-23 16:28:53,715] Finished trial#46 resulted in value: 0.8569586235009131. Current best value is 0.8569586235009131 with parameters: {'svr_c': 1.036754492203868, 'epsilon': 0.2796207076974531}.\n",
      "[I 2020-01-23 16:28:53,869] Finished trial#47 resulted in value: 0.8777387502345774. Current best value is 0.8569586235009131 with parameters: {'svr_c': 1.036754492203868, 'epsilon': 0.2796207076974531}.\n",
      "[I 2020-01-23 16:28:54,003] Finished trial#48 resulted in value: 0.9143698722017163. Current best value is 0.8569586235009131 with parameters: {'svr_c': 1.036754492203868, 'epsilon': 0.2796207076974531}.\n",
      "[I 2020-01-23 16:28:54,157] Finished trial#49 resulted in value: 0.8972726143812354. Current best value is 0.8569586235009131 with parameters: {'svr_c': 1.036754492203868, 'epsilon': 0.2796207076974531}.\n",
      "[I 2020-01-23 16:28:54,536] Finished trial#50 resulted in value: 1.375350008585617. Current best value is 0.8569586235009131 with parameters: {'svr_c': 1.036754492203868, 'epsilon': 0.2796207076974531}.\n",
      "[I 2020-01-23 16:28:54,691] Finished trial#51 resulted in value: 0.8643153397898194. Current best value is 0.8569586235009131 with parameters: {'svr_c': 1.036754492203868, 'epsilon': 0.2796207076974531}.\n",
      "[I 2020-01-23 16:28:54,862] Finished trial#52 resulted in value: 0.8626995585455101. Current best value is 0.8569586235009131 with parameters: {'svr_c': 1.036754492203868, 'epsilon': 0.2796207076974531}.\n",
      "[I 2020-01-23 16:28:55,041] Finished trial#53 resulted in value: 0.8748002627104073. Current best value is 0.8569586235009131 with parameters: {'svr_c': 1.036754492203868, 'epsilon': 0.2796207076974531}.\n",
      "[I 2020-01-23 16:28:55,222] Finished trial#54 resulted in value: 0.8865147562453046. Current best value is 0.8569586235009131 with parameters: {'svr_c': 1.036754492203868, 'epsilon': 0.2796207076974531}.\n",
      "[I 2020-01-23 16:28:55,373] Finished trial#55 resulted in value: 0.8582532729041148. Current best value is 0.8569586235009131 with parameters: {'svr_c': 1.036754492203868, 'epsilon': 0.2796207076974531}.\n",
      "[I 2020-01-23 16:28:55,524] Finished trial#56 resulted in value: 0.8663719301910514. Current best value is 0.8569586235009131 with parameters: {'svr_c': 1.036754492203868, 'epsilon': 0.2796207076974531}.\n",
      "[I 2020-01-23 16:28:55,683] Finished trial#57 resulted in value: 0.8726559364171296. Current best value is 0.8569586235009131 with parameters: {'svr_c': 1.036754492203868, 'epsilon': 0.2796207076974531}.\n",
      "[I 2020-01-23 16:28:55,931] Finished trial#58 resulted in value: 0.9021232484958815. Current best value is 0.8569586235009131 with parameters: {'svr_c': 1.036754492203868, 'epsilon': 0.2796207076974531}.\n",
      "[I 2020-01-23 16:28:56,119] Finished trial#59 resulted in value: 0.8822236141656085. Current best value is 0.8569586235009131 with parameters: {'svr_c': 1.036754492203868, 'epsilon': 0.2796207076974531}.\n",
      "[I 2020-01-23 16:28:56,292] Finished trial#60 resulted in value: 0.9261251832928141. Current best value is 0.8569586235009131 with parameters: {'svr_c': 1.036754492203868, 'epsilon': 0.2796207076974531}.\n",
      "[I 2020-01-23 16:28:56,539] Finished trial#61 resulted in value: 1.0332172252448142. Current best value is 0.8569586235009131 with parameters: {'svr_c': 1.036754492203868, 'epsilon': 0.2796207076974531}.\n",
      "[I 2020-01-23 16:28:56,710] Finished trial#62 resulted in value: 0.8629374896119115. Current best value is 0.8569586235009131 with parameters: {'svr_c': 1.036754492203868, 'epsilon': 0.2796207076974531}.\n",
      "[I 2020-01-23 16:28:56,852] Finished trial#63 resulted in value: 0.8775667883218633. Current best value is 0.8569586235009131 with parameters: {'svr_c': 1.036754492203868, 'epsilon': 0.2796207076974531}.\n",
      "[I 2020-01-23 16:28:56,984] Finished trial#64 resulted in value: 0.8919186471070558. Current best value is 0.8569586235009131 with parameters: {'svr_c': 1.036754492203868, 'epsilon': 0.2796207076974531}.\n",
      "[I 2020-01-23 16:28:57,125] Finished trial#65 resulted in value: 0.859780112101027. Current best value is 0.8569586235009131 with parameters: {'svr_c': 1.036754492203868, 'epsilon': 0.2796207076974531}.\n",
      "[I 2020-01-23 16:28:57,299] Finished trial#66 resulted in value: 0.9235779355962791. Current best value is 0.8569586235009131 with parameters: {'svr_c': 1.036754492203868, 'epsilon': 0.2796207076974531}.\n",
      "[I 2020-01-23 16:28:57,457] Finished trial#67 resulted in value: 0.8831559865918965. Current best value is 0.8569586235009131 with parameters: {'svr_c': 1.036754492203868, 'epsilon': 0.2796207076974531}.\n",
      "[I 2020-01-23 16:28:57,605] Finished trial#68 resulted in value: 0.8633699131743805. Current best value is 0.8569586235009131 with parameters: {'svr_c': 1.036754492203868, 'epsilon': 0.2796207076974531}.\n",
      "[I 2020-01-23 16:28:57,822] Finished trial#69 resulted in value: 0.9693475735870739. Current best value is 0.8569586235009131 with parameters: {'svr_c': 1.036754492203868, 'epsilon': 0.2796207076974531}.\n",
      "[I 2020-01-23 16:28:58,039] Finished trial#70 resulted in value: 0.9264208021192091. Current best value is 0.8569586235009131 with parameters: {'svr_c': 1.036754492203868, 'epsilon': 0.2796207076974531}.\n",
      "[I 2020-01-23 16:28:58,229] Finished trial#71 resulted in value: 0.8687514339843937. Current best value is 0.8569586235009131 with parameters: {'svr_c': 1.036754492203868, 'epsilon': 0.2796207076974531}.\n",
      "[I 2020-01-23 16:28:58,408] Finished trial#72 resulted in value: 0.8779505163848519. Current best value is 0.8569586235009131 with parameters: {'svr_c': 1.036754492203868, 'epsilon': 0.2796207076974531}.\n",
      "[I 2020-01-23 16:28:58,556] Finished trial#73 resulted in value: 0.8633339331578845. Current best value is 0.8569586235009131 with parameters: {'svr_c': 1.036754492203868, 'epsilon': 0.2796207076974531}.\n",
      "[I 2020-01-23 16:28:58,710] Finished trial#74 resulted in value: 0.8942991281533548. Current best value is 0.8569586235009131 with parameters: {'svr_c': 1.036754492203868, 'epsilon': 0.2796207076974531}.\n",
      "[I 2020-01-23 16:28:59,061] Finished trial#75 resulted in value: 0.8722667208818519. Current best value is 0.8569586235009131 with parameters: {'svr_c': 1.036754492203868, 'epsilon': 0.2796207076974531}.\n",
      "[I 2020-01-23 16:28:59,211] Finished trial#76 resulted in value: 0.8695814550383196. Current best value is 0.8569586235009131 with parameters: {'svr_c': 1.036754492203868, 'epsilon': 0.2796207076974531}.\n",
      "[I 2020-01-23 16:28:59,374] Finished trial#77 resulted in value: 0.8787157696540082. Current best value is 0.8569586235009131 with parameters: {'svr_c': 1.036754492203868, 'epsilon': 0.2796207076974531}.\n",
      "[I 2020-01-23 16:28:59,629] Finished trial#78 resulted in value: 0.8682353978511852. Current best value is 0.8569586235009131 with parameters: {'svr_c': 1.036754492203868, 'epsilon': 0.2796207076974531}.\n",
      "[I 2020-01-23 16:28:59,782] Finished trial#79 resulted in value: 0.9026138234375884. Current best value is 0.8569586235009131 with parameters: {'svr_c': 1.036754492203868, 'epsilon': 0.2796207076974531}.\n",
      "[I 2020-01-23 16:28:59,939] Finished trial#80 resulted in value: 0.8586664221203741. Current best value is 0.8569586235009131 with parameters: {'svr_c': 1.036754492203868, 'epsilon': 0.2796207076974531}.\n",
      "[I 2020-01-23 16:29:00,098] Finished trial#81 resulted in value: 0.8738628485795491. Current best value is 0.8569586235009131 with parameters: {'svr_c': 1.036754492203868, 'epsilon': 0.2796207076974531}.\n",
      "[I 2020-01-23 16:29:00,264] Finished trial#82 resulted in value: 0.8669736922577554. Current best value is 0.8569586235009131 with parameters: {'svr_c': 1.036754492203868, 'epsilon': 0.2796207076974531}.\n",
      "[I 2020-01-23 16:29:00,439] Finished trial#83 resulted in value: 0.8561327102039691. Current best value is 0.8561327102039691 with parameters: {'svr_c': 1.0007231413716307, 'epsilon': 0.30695463552424285}.\n",
      "[I 2020-01-23 16:29:00,600] Finished trial#84 resulted in value: 0.879260894096467. Current best value is 0.8561327102039691 with parameters: {'svr_c': 1.0007231413716307, 'epsilon': 0.30695463552424285}.\n",
      "[I 2020-01-23 16:29:00,769] Finished trial#85 resulted in value: 0.8992787291184005. Current best value is 0.8561327102039691 with parameters: {'svr_c': 1.0007231413716307, 'epsilon': 0.30695463552424285}.\n",
      "[I 2020-01-23 16:29:00,900] Finished trial#86 resulted in value: 0.8600717541451964. Current best value is 0.8561327102039691 with parameters: {'svr_c': 1.0007231413716307, 'epsilon': 0.30695463552424285}.\n",
      "[I 2020-01-23 16:29:01,033] Finished trial#87 resulted in value: 0.8657042791569904. Current best value is 0.8561327102039691 with parameters: {'svr_c': 1.0007231413716307, 'epsilon': 0.30695463552424285}.\n",
      "[I 2020-01-23 16:29:01,168] Finished trial#88 resulted in value: 0.8900200207683685. Current best value is 0.8561327102039691 with parameters: {'svr_c': 1.0007231413716307, 'epsilon': 0.30695463552424285}.\n",
      "[I 2020-01-23 16:29:01,293] Finished trial#89 resulted in value: 0.8632965117742208. Current best value is 0.8561327102039691 with parameters: {'svr_c': 1.0007231413716307, 'epsilon': 0.30695463552424285}.\n",
      "[I 2020-01-23 16:29:01,397] Finished trial#90 resulted in value: 0.8970950068210136. Current best value is 0.8561327102039691 with parameters: {'svr_c': 1.0007231413716307, 'epsilon': 0.30695463552424285}.\n",
      "[I 2020-01-23 16:29:01,531] Finished trial#91 resulted in value: 0.8743619224847962. Current best value is 0.8561327102039691 with parameters: {'svr_c': 1.0007231413716307, 'epsilon': 0.30695463552424285}.\n",
      "[I 2020-01-23 16:29:01,680] Finished trial#92 resulted in value: 0.863868737979387. Current best value is 0.8561327102039691 with parameters: {'svr_c': 1.0007231413716307, 'epsilon': 0.30695463552424285}.\n",
      "[I 2020-01-23 16:29:01,822] Finished trial#93 resulted in value: 0.8556013249982288. Current best value is 0.8556013249982288 with parameters: {'svr_c': 1.0003295622167319, 'epsilon': 0.26741161895009796}.\n",
      "[I 2020-01-23 16:29:01,957] Finished trial#94 resulted in value: 0.8638247357944117. Current best value is 0.8556013249982288 with parameters: {'svr_c': 1.0003295622167319, 'epsilon': 0.26741161895009796}.\n",
      "[I 2020-01-23 16:29:02,099] Finished trial#95 resulted in value: 0.8829899140370739. Current best value is 0.8556013249982288 with parameters: {'svr_c': 1.0003295622167319, 'epsilon': 0.26741161895009796}.\n",
      "[I 2020-01-23 16:29:02,235] Finished trial#96 resulted in value: 0.8715095434028836. Current best value is 0.8556013249982288 with parameters: {'svr_c': 1.0003295622167319, 'epsilon': 0.26741161895009796}.\n",
      "[I 2020-01-23 16:29:02,381] Finished trial#97 resulted in value: 0.8635859538942209. Current best value is 0.8556013249982288 with parameters: {'svr_c': 1.0003295622167319, 'epsilon': 0.26741161895009796}.\n",
      "[I 2020-01-23 16:29:02,542] Finished trial#98 resulted in value: 0.8646283559503752. Current best value is 0.8556013249982288 with parameters: {'svr_c': 1.0003295622167319, 'epsilon': 0.26741161895009796}.\n",
      "[I 2020-01-23 16:29:02,762] Finished trial#99 resulted in value: 1.0853345022553689. Current best value is 0.8556013249982288 with parameters: {'svr_c': 1.0003295622167319, 'epsilon': 0.26741161895009796}.\n"
     ]
    },
    {
     "name": "stdout",
     "output_type": "stream",
     "text": [
      "{'svr_c': 1.0003295622167319, 'epsilon': 0.26741161895009796}\n",
      "0.8556013249982288\n",
      "FrozenTrial(number=93, value=0.8556013249982288, datetime_start=datetime.datetime(2020, 1, 23, 16, 29, 1, 682867), datetime_complete=datetime.datetime(2020, 1, 23, 16, 29, 1, 822176), params={'svr_c': 1.0003295622167319, 'epsilon': 0.26741161895009796}, distributions={'svr_c': LogUniformDistribution(high=100.0, low=1.0), 'epsilon': LogUniformDistribution(high=10.0, low=0.1)}, user_attrs={}, system_attrs={'_number': 93}, intermediate_values={}, trial_id=93, state=TrialState.COMPLETE)\n"
     ]
    }
   ],
   "source": [
    "# optuna\n",
    "study = optuna.create_study()\n",
    "study.optimize(objective, n_trials=100)\n",
    "\n",
    "# 最適解\n",
    "print(study.best_params)\n",
    "print(study.best_value)\n",
    "print(study.best_trial)"
   ]
  },
  {
   "cell_type": "code",
   "execution_count": 39,
   "metadata": {},
   "outputs": [
    {
     "data": {
      "text/plain": [
       "0.6902940734444688"
      ]
     },
     "execution_count": 39,
     "metadata": {},
     "output_type": "execute_result"
    }
   ],
   "source": [
    "model = SVR(C=1.0003295622167319, epsilon=0.26741161895009796)\n",
    "model.fit(train_x_scaled,train_y)\n",
    "pred_y = model.predict(test_x_scaled)\n",
    "\n",
    "mean_absolute_error(pred_y,test_y)"
   ]
  },
  {
   "cell_type": "code",
   "execution_count": 48,
   "metadata": {},
   "outputs": [],
   "source": [
    "sub = model.predict(X_test_scaled)\n",
    "submission = pd.read_csv(\"model/submission.csv\")\n",
    "submission['quality'] = sub"
   ]
  },
  {
   "cell_type": "code",
   "execution_count": null,
   "metadata": {},
   "outputs": [],
   "source": []
  }
 ],
 "metadata": {
  "kernelspec": {
   "display_name": "Python 3",
   "language": "python",
   "name": "python3"
  },
  "language_info": {
   "codemirror_mode": {
    "name": "ipython",
    "version": 3
   },
   "file_extension": ".py",
   "mimetype": "text/x-python",
   "name": "python",
   "nbconvert_exporter": "python",
   "pygments_lexer": "ipython3",
   "version": "3.7.0"
  }
 },
 "nbformat": 4,
 "nbformat_minor": 4
}
